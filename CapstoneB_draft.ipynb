{
 "cells": [
  {
   "cell_type": "code",
   "execution_count": 1,
   "metadata": {
    "collapsed": true
   },
   "outputs": [],
   "source": [
    "# -*- coding:utf-8 -*-\n",
    "# This script will download all the 10-K, 10-Q and 8-K\n",
    "# provided that of company symbol and its cik code.\n",
    "from __future__ import print_function  # Compatibility with Python 2\n",
    "\n",
    "import requests\n",
    "import os\n",
    "import errno\n",
    "from bs4 import BeautifulSoup\n",
    "import datetime\n",
    "import codecs\n",
    "from setuptools import setup, find_packages\n",
    "from setuptools.command.install import install"
   ]
  },
  {
   "cell_type": "code",
   "execution_count": 5,
   "metadata": {},
   "outputs": [],
   "source": [
    "sys.path.insert(0, os.path.abspath('.'))\n",
    "SUPPORTED_VERSIONS = ['2.7', '3.5', '3.6', 'PyPy', ]\n",
    "here = os.path.abspath(os.path.dirname('__file__'))"
   ]
  },
  {
   "cell_type": "code",
   "execution_count": 3,
   "metadata": {},
   "outputs": [],
   "source": [
    "import sys\n",
    "# !{sys.executable} -m pip install SECEdgar"
   ]
  },
  {
   "cell_type": "code",
   "execution_count": 8,
   "metadata": {},
   "outputs": [
    {
     "name": "stdout",
     "output_type": "stream",
     "text": [
      "Collecting sec-edgar-downloader\n",
      "  Downloading https://files.pythonhosted.org/packages/3b/c6/c94550fbba5a913d95414592dbe3cb624965070c0df0c0aa53f83f81542f/sec_edgar_downloader-2.0.1-py3-none-any.whl\n",
      "Requirement already satisfied: lxml in /anaconda3/lib/python3.7/site-packages (from sec-edgar-downloader) (4.3.2)\n",
      "Requirement already satisfied: requests in /anaconda3/lib/python3.7/site-packages (from sec-edgar-downloader) (2.21.0)\n",
      "Requirement already satisfied: beautifulsoup4 in /anaconda3/lib/python3.7/site-packages (from sec-edgar-downloader) (4.4.0)\n",
      "Requirement already satisfied: idna<2.9,>=2.5 in /anaconda3/lib/python3.7/site-packages (from requests->sec-edgar-downloader) (2.8)\n",
      "Requirement already satisfied: urllib3<1.25,>=1.21.1 in /anaconda3/lib/python3.7/site-packages (from requests->sec-edgar-downloader) (1.24.1)\n",
      "Requirement already satisfied: chardet<3.1.0,>=3.0.2 in /anaconda3/lib/python3.7/site-packages (from requests->sec-edgar-downloader) (3.0.4)\n",
      "Requirement already satisfied: certifi>=2017.4.17 in /anaconda3/lib/python3.7/site-packages (from requests->sec-edgar-downloader) (2019.3.9)\n",
      "Installing collected packages: sec-edgar-downloader\n",
      "Successfully installed sec-edgar-downloader-2.0.1\n"
     ]
    }
   ],
   "source": [
    "!{sys.executable} -m pip install sec-edgar-downloader"
   ]
  },
  {
   "cell_type": "code",
   "execution_count": 6,
   "metadata": {
    "collapsed": true
   },
   "outputs": [],
   "source": [
    "from sec_edgar_downloader import Downloader"
   ]
  },
  {
   "cell_type": "code",
   "execution_count": 7,
   "metadata": {},
   "outputs": [
    {
     "ename": "ModuleNotFoundError",
     "evalue": "No module named 'SECEdgar'",
     "output_type": "error",
     "traceback": [
      "\u001b[0;31m---------------------------------------------------------------------------\u001b[0m",
      "\u001b[0;31mModuleNotFoundError\u001b[0m                       Traceback (most recent call last)",
      "\u001b[0;32m<ipython-input-7-2886c92277c2>\u001b[0m in \u001b[0;36m<module>\u001b[0;34m()\u001b[0m\n\u001b[0;32m----> 1\u001b[0;31m \u001b[0;32mfrom\u001b[0m \u001b[0mSECEdgar\u001b[0m\u001b[0;34m.\u001b[0m\u001b[0mcrawler\u001b[0m \u001b[0;32mimport\u001b[0m \u001b[0mSecCrawler\u001b[0m\u001b[0;34m\u001b[0m\u001b[0m\n\u001b[0m\u001b[1;32m      2\u001b[0m \u001b[0;32mimport\u001b[0m \u001b[0mtime\u001b[0m\u001b[0;34m\u001b[0m\u001b[0m\n",
      "\u001b[0;31mModuleNotFoundError\u001b[0m: No module named 'SECEdgar'"
     ]
    }
   ],
   "source": [
    "from SECEdgar.crawler import SecCrawler\n",
    "import time"
   ]
  },
  {
   "cell_type": "code",
   "execution_count": 14,
   "metadata": {},
   "outputs": [
    {
     "name": "stdout",
     "output_type": "stream",
     "text": [
      "Collecting python-edgar\n",
      "  Using cached https://files.pythonhosted.org/packages/44/c7/850e12c943929d239be84928b85d447098751fc156d3ec095dc0512f0bb7/python_edgar-2.6.1-py3-none-any.whl\n",
      "Installing collected packages: python-edgar\n",
      "Successfully installed python-edgar-2.6.1\n"
     ]
    }
   ],
   "source": [
    "!{sys.executable} -m pip install python-edgar"
   ]
  },
  {
   "cell_type": "code",
   "execution_count": 1,
   "metadata": {},
   "outputs": [
    {
     "ename": "ModuleNotFoundError",
     "evalue": "No module named 'edgar'",
     "output_type": "error",
     "traceback": [
      "\u001b[0;31m---------------------------------------------------------------------------\u001b[0m",
      "\u001b[0;31mModuleNotFoundError\u001b[0m                       Traceback (most recent call last)",
      "\u001b[0;32m<ipython-input-1-38fdcdf2ce9a>\u001b[0m in \u001b[0;36m<module>\u001b[0;34m()\u001b[0m\n\u001b[0;32m----> 1\u001b[0;31m \u001b[0;32mimport\u001b[0m \u001b[0medgar\u001b[0m\u001b[0;34m\u001b[0m\u001b[0m\n\u001b[0m\u001b[1;32m      2\u001b[0m \u001b[0mget_ipython\u001b[0m\u001b[0;34m(\u001b[0m\u001b[0;34m)\u001b[0m\u001b[0;34m.\u001b[0m\u001b[0msystem\u001b[0m\u001b[0;34m(\u001b[0m\u001b[0;34m'{sys.executable} -m pip install sec-edgar-download'\u001b[0m\u001b[0;34m)\u001b[0m\u001b[0;34m\u001b[0m\u001b[0m\n",
      "\u001b[0;31mModuleNotFoundError\u001b[0m: No module named 'edgar'"
     ]
    }
   ],
   "source": [
    "import edgar\n",
    "!{sys.executable} -m pip install sec-edgar-download"
   ]
  },
  {
   "cell_type": "code",
   "execution_count": 27,
   "metadata": {},
   "outputs": [
    {
     "name": "stderr",
     "output_type": "stream",
     "text": [
      "INFO:root:Downloaded RSS feed: ./edgar/rss-archives/xbrlrss-2016-01.xml\n",
      "INFO:root:Parsing RSS feed ./edgar/rss-archives/xbrlrss-2016-01.xml\n",
      "INFO:root:Downloaded RSS feed: ./edgar/rss-archives/xbrlrss-2016-02.xml\n",
      "INFO:root:Parsing RSS feed ./edgar/rss-archives/xbrlrss-2016-02.xml\n",
      "INFO:root:Downloaded RSS feed: ./edgar/rss-archives/xbrlrss-2016-03.xml\n",
      "INFO:root:Parsing RSS feed ./edgar/rss-archives/xbrlrss-2016-03.xml\n",
      "INFO:root:Downloaded RSS feed: ./edgar/rss-archives/xbrlrss-2016-04.xml\n",
      "INFO:root:Parsing RSS feed ./edgar/rss-archives/xbrlrss-2016-04.xml\n",
      "INFO:root:Downloaded RSS feed: ./edgar/rss-archives/xbrlrss-2016-05.xml\n",
      "INFO:root:Parsing RSS feed ./edgar/rss-archives/xbrlrss-2016-05.xml\n",
      "INFO:root:Downloaded RSS feed: ./edgar/rss-archives/xbrlrss-2016-06.xml\n",
      "INFO:root:Parsing RSS feed ./edgar/rss-archives/xbrlrss-2016-06.xml\n",
      "INFO:root:Downloaded RSS feed: ./edgar/rss-archives/xbrlrss-2016-07.xml\n",
      "INFO:root:Parsing RSS feed ./edgar/rss-archives/xbrlrss-2016-07.xml\n",
      "WARNING:root:No EX-101 or EX-100 xml files found for  MARTIN MIDSTREAM PARTNERS LP (0001176334) (Filer)\n",
      "WARNING:root:No EX-101 or EX-100 xml files found for  Pandora Media, Inc. (0001230276) (Filer)\n",
      "WARNING:root:No EX-101 or EX-100 xml files found for  CCA INDUSTRIES INC (0000721447) (Filer)\n",
      "WARNING:root:No EX-101 or EX-100 xml files found for  LENNAR CORP /NEW/ (0000920760) (Filer)\n",
      "INFO:root:Downloaded RSS feed: ./edgar/rss-archives/xbrlrss-2016-08.xml\n",
      "INFO:root:Parsing RSS feed ./edgar/rss-archives/xbrlrss-2016-08.xml\n",
      "WARNING:root:No EX-101 or EX-100 xml files found for  Calpian, Inc. (0001414628) (Filer)\n",
      "WARNING:root:No EX-101 or EX-100 xml files found for  EnerSys (0001289308) (Filer)\n",
      "WARNING:root:No EX-101 or EX-100 xml files found for  WORKIVA INC (0001445305) (Filer)\n",
      "INFO:root:Downloaded RSS feed: ./edgar/rss-archives/xbrlrss-2016-09.xml\n",
      "INFO:root:Parsing RSS feed ./edgar/rss-archives/xbrlrss-2016-09.xml\n",
      "WARNING:root:No EX-101 or EX-100 xml files found for  Calpian, Inc. (0001414628) (Filer)\n",
      "INFO:root:Downloaded RSS feed: ./edgar/rss-archives/xbrlrss-2016-10.xml\n",
      "INFO:root:Parsing RSS feed ./edgar/rss-archives/xbrlrss-2016-10.xml\n",
      "WARNING:root:No EX-101 or EX-100 xml files found for  Boardwalk Pipeline Partners, LP (0001336047) (Filer)\n",
      "WARNING:root:No EX-101 or EX-100 xml files found for  Fortive Corp (0001659166) (Filer)\n",
      "WARNING:root:No EX-101 or EX-100 xml files found for  Pandora Media, Inc. (0001230276) (Filer)\n",
      "WARNING:root:No EX-101 or EX-100 xml files found for  MARTIN MIDSTREAM PARTNERS LP (0001176334) (Filer)\n",
      "WARNING:root:No EX-101 or EX-100 xml files found for  NATURAL HEALTH TRENDS CORP (0000912061) (Filer)\n",
      "WARNING:root:No EX-101 or EX-100 xml files found for  CCA INDUSTRIES INC (0000721447) (Filer)\n",
      "WARNING:root:No EX-101 or EX-100 xml files found for  DELTA AIR LINES INC /DE/ (0000027904) (Filer)\n",
      "WARNING:root:No EX-101 or EX-100 xml files found for  YUM BRANDS INC (0001041061) (Filer)\n",
      "WARNING:root:No EX-101 or EX-100 xml files found for  LENNAR CORP /NEW/ (0000920760) (Filer)\n",
      "INFO:root:Downloaded RSS feed: ./edgar/rss-archives/xbrlrss-2016-11.xml\n",
      "INFO:root:Parsing RSS feed ./edgar/rss-archives/xbrlrss-2016-11.xml\n",
      "WARNING:root:No EX-101 or EX-100 xml files found for  Lightwave Logic, Inc. (0001325964) (Filer)\n",
      "WARNING:root:No EX-101 or EX-100 xml files found for  MoneyOnMobile, Inc. (0001414628) (Filer)\n",
      "WARNING:root:No EX-101 or EX-100 xml files found for  WORKIVA INC (0001445305) (Filer)\n",
      "WARNING:root:No EX-101 or EX-100 xml files found for  EnerSys (0001289308) (Filer)\n",
      "WARNING:root:No EX-101 or EX-100 xml files found for  LGI Homes, Inc. (0001580670) (Filer)\n",
      "WARNING:root:No EX-101 or EX-100 xml files found for  Fiesta Restaurant Group, Inc. (0001534992) (Filer)\n",
      "WARNING:root:No EX-101 or EX-100 xml files found for  State Auto Financial CORP (0000874977) (Filer)\n",
      "WARNING:root:No EX-101 or EX-100 xml files found for  NOODLES & Co (0001275158) (Filer)\n",
      "WARNING:root:No EX-101 or EX-100 xml files found for  ServiceNow, Inc. (0001373715) (Filer)\n",
      "WARNING:root:No EX-101 or EX-100 xml files found for  AMERITYRE CORP (0000945828) (Filer)\n",
      "WARNING:root:No EX-101 or EX-100 xml files found for  BIO RAD LABORATORIES INC (0000012208) (Filer)\n",
      "WARNING:root:No EX-101 or EX-100 xml files found for  Xylem Inc. (0001524472) (Filer)\n",
      "INFO:root:Downloaded RSS feed: ./edgar/rss-archives/xbrlrss-2016-12.xml\n",
      "INFO:root:Parsing RSS feed ./edgar/rss-archives/xbrlrss-2016-12.xml\n",
      "INFO:root:Dropped 436 duplicates\n",
      "INFO:root:32662 items parsed\n",
      "INFO:root:Saved feed details to ./edgar/edgar.db\n",
      "\n"
     ]
    }
   ],
   "source": [
    "from sec_edgar_download import indexer as ix\n",
    "work_dir ='./edgar'\n",
    "from_year = 2016\n",
    "to_year = 2016\n",
    "indexer = ix.SecIndexer(work_dir)\n",
    "indexer.download_sec_feeds(from_year, to_year)"
   ]
  },
  {
   "cell_type": "code",
   "execution_count": 29,
   "metadata": {
    "collapsed": true
   },
   "outputs": [],
   "source": [
    "cik = ix.get_cik('INTC')"
   ]
  },
  {
   "cell_type": "code",
   "execution_count": 30,
   "metadata": {},
   "outputs": [
    {
     "name": "stdout",
     "output_type": "stream",
     "text": [
      "Downloading file http://www.sec.gov/Archives/edgar/data/50863/000005086316000105/intc-20151226.xml\n",
      "To ./edgar/filings/intc-20151226.xml\n",
      "Downloading file http://www.sec.gov/Archives/edgar/data/50863/000005086316000125/intc-20160402.xml\n",
      "To ./edgar/filings/intc-20160402.xml\n",
      "Downloading file http://www.sec.gov/Archives/edgar/data/50863/000005086316000142/intc-20160702.xml\n",
      "To ./edgar/filings/intc-20160702.xml\n",
      "Downloading file http://www.sec.gov/Archives/edgar/data/50863/000005086316000153/intc-20161001.xml\n",
      "To ./edgar/filings/intc-20161001.xml\n"
     ]
    }
   ],
   "source": [
    "indexer.download_xbrl_data(cik, from_year, to_year, 'All')"
   ]
  },
  {
   "cell_type": "code",
   "execution_count": 8,
   "metadata": {
    "collapsed": true
   },
   "outputs": [],
   "source": [
    "class EDGARQueryError(Exception):\n",
    "    \"\"\"\n",
    "    This error is thrown when a query receives a response that is not a 200 response.\n",
    "    \"\"\"\n",
    "\n",
    "    def __init__(self, response):\n",
    "        self.response = response\n",
    "\n",
    "    def __str__(self):\n",
    "        return \"An error occured while making the query. Received {response} response\".format(\n",
    "            response=self.response\n",
    "        )\n",
    "\n",
    "\n",
    "class EDGARFieldError(Exception):\n",
    "    \"\"\"\n",
    "    This error is thrown when an invalid field is given to an endpoint.\n",
    "    \"\"\"\n",
    "\n",
    "    def __init__(self, endpoint, field):\n",
    "        self.endpoint = endpoint\n",
    "        self.field = field\n",
    "\n",
    "    def __str__(self):\n",
    "        return \"Field {field} not found in endpoint {endpoint}\".format(\n",
    "            field=self.field, endpoint=self.endpoint\n",
    "        )\n",
    "\n",
    "\n",
    "class CIKError(Exception):\n",
    "    \"\"\"\n",
    "    This error is thrown when an invalid CIK is given.\n",
    "    \"\"\"\n",
    "\n",
    "    def __init__(self, cik):\n",
    "        self.cik = cik\n",
    "\n",
    "    def __str__(self):\n",
    "        return \"CIK {cik} is not valid. Must be str or int with 10 digits.\".format(cik=self.cik)"
   ]
  },
  {
   "cell_type": "code",
   "execution_count": 10,
   "metadata": {},
   "outputs": [
    {
     "ename": "NameError",
     "evalue": "name '__file__' is not defined",
     "output_type": "error",
     "traceback": [
      "\u001b[0;31m---------------------------------------------------------------------------\u001b[0m",
      "\u001b[0;31mNameError\u001b[0m                                 Traceback (most recent call last)",
      "\u001b[0;32m<ipython-input-10-e652d2c9e96e>\u001b[0m in \u001b[0;36m<module>\u001b[0;34m()\u001b[0m\n\u001b[1;32m      1\u001b[0m DEFAULT_DATA_PATH = os.path.abspath(os.path.join(\n\u001b[0;32m----> 2\u001b[0;31m     os.path.dirname(__file__), '..', 'SEC-Edgar-Data'))\n\u001b[0m",
      "\u001b[0;31mNameError\u001b[0m: name '__file__' is not defined"
     ]
    }
   ],
   "source": [
    "DEFAULT_DATA_PATH = os.path.abspath(os.path.join(\n",
    "    os.path.dirname(__file__), '..', 'SEC-Edgar-Data'))"
   ]
  },
  {
   "cell_type": "code",
   "execution_count": null,
   "metadata": {
    "collapsed": true
   },
   "outputs": [],
   "source": []
  }
 ],
 "metadata": {
  "kernelspec": {
   "display_name": "Python 3",
   "language": "python",
   "name": "python3"
  },
  "language_info": {
   "codemirror_mode": {
    "name": "ipython",
    "version": 3
   },
   "file_extension": ".py",
   "mimetype": "text/x-python",
   "name": "python",
   "nbconvert_exporter": "python",
   "pygments_lexer": "ipython3",
   "version": "3.6.1"
  }
 },
 "nbformat": 4,
 "nbformat_minor": 2
}
