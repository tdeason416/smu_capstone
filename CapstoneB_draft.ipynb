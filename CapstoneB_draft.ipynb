{
 "cells": [
  {
   "cell_type": "code",
   "execution_count": 40,
   "metadata": {},
   "outputs": [],
   "source": [
    "# -*- coding:utf-8 -*-\n",
    "# This script will download all the 10-K, 10-Q and 8-K\n",
    "# provided that of company symbol and its cik code.\n",
    "from __future__ import print_function  # Compatibility with Python 2\n",
    "\n",
    "import requests\n",
    "import os\n",
    "import errno\n",
    "from bs4 import BeautifulSoup\n",
    "import datetime\n",
    "import codecs\n",
    "from setuptools import setup, find_packages\n",
    "from setuptools.command.install import install"
   ]
  },
  {
   "cell_type": "code",
   "execution_count": 42,
   "metadata": {},
   "outputs": [
    {
     "ename": "NameError",
     "evalue": "name '__file__' is not defined",
     "output_type": "error",
     "traceback": [
      "\u001b[0;31m---------------------------------------------------------------------------\u001b[0m",
      "\u001b[0;31mNameError\u001b[0m                                 Traceback (most recent call last)",
      "\u001b[0;32m<ipython-input-42-b50c91353674>\u001b[0m in \u001b[0;36m<module>\u001b[0;34m\u001b[0m\n\u001b[1;32m      1\u001b[0m \u001b[0msys\u001b[0m\u001b[0;34m.\u001b[0m\u001b[0mpath\u001b[0m\u001b[0;34m.\u001b[0m\u001b[0minsert\u001b[0m\u001b[0;34m(\u001b[0m\u001b[0;36m0\u001b[0m\u001b[0;34m,\u001b[0m \u001b[0mos\u001b[0m\u001b[0;34m.\u001b[0m\u001b[0mpath\u001b[0m\u001b[0;34m.\u001b[0m\u001b[0mabspath\u001b[0m\u001b[0;34m(\u001b[0m\u001b[0;34m'.'\u001b[0m\u001b[0;34m)\u001b[0m\u001b[0;34m)\u001b[0m\u001b[0;34m\u001b[0m\u001b[0;34m\u001b[0m\u001b[0m\n\u001b[1;32m      2\u001b[0m \u001b[0mSUPPORTED_VERSIONS\u001b[0m \u001b[0;34m=\u001b[0m \u001b[0;34m[\u001b[0m\u001b[0;34m'2.7'\u001b[0m\u001b[0;34m,\u001b[0m \u001b[0;34m'3.5'\u001b[0m\u001b[0;34m,\u001b[0m \u001b[0;34m'3.6'\u001b[0m\u001b[0;34m,\u001b[0m \u001b[0;34m'PyPy'\u001b[0m\u001b[0;34m,\u001b[0m \u001b[0;34m]\u001b[0m\u001b[0;34m\u001b[0m\u001b[0;34m\u001b[0m\u001b[0m\n\u001b[0;32m----> 3\u001b[0;31m \u001b[0mhere\u001b[0m \u001b[0;34m=\u001b[0m \u001b[0mos\u001b[0m\u001b[0;34m.\u001b[0m\u001b[0mpath\u001b[0m\u001b[0;34m.\u001b[0m\u001b[0mabspath\u001b[0m\u001b[0;34m(\u001b[0m\u001b[0mos\u001b[0m\u001b[0;34m.\u001b[0m\u001b[0mpath\u001b[0m\u001b[0;34m.\u001b[0m\u001b[0mdirname\u001b[0m\u001b[0;34m(\u001b[0m\u001b[0m__file__\u001b[0m\u001b[0;34m)\u001b[0m\u001b[0;34m)\u001b[0m\u001b[0;34m\u001b[0m\u001b[0;34m\u001b[0m\u001b[0m\n\u001b[0m",
      "\u001b[0;31mNameError\u001b[0m: name '__file__' is not defined"
     ]
    }
   ],
   "source": [
    "sys.path.insert(0, os.path.abspath('.'))\n",
    "SUPPORTED_VERSIONS = ['2.7', '3.5', '3.6', 'PyPy', ]\n",
    "here = os.path.abspath(os.path.dirname(__file__))"
   ]
  },
  {
   "cell_type": "code",
   "execution_count": 3,
   "metadata": {},
   "outputs": [
    {
     "name": "stdout",
     "output_type": "stream",
     "text": [
      "Collecting SECEdgar\n",
      "  Using cached https://files.pythonhosted.org/packages/8a/88/a6c2d1f2417f2eed1311bd192f178d4eb8be08d592acc557848e09e624bc/SECEdgar-0.1.4-py3-none-any.whl\n",
      "Collecting pytest==3.6.3 (from SECEdgar)\n",
      "  Using cached https://files.pythonhosted.org/packages/77/64/3a76f6fbb0f392d60c5960f2b2fbad8c2b802dada87ca6d1b99c0083a929/pytest-3.6.3-py2.py3-none-any.whl\n",
      "Collecting future==0.13.1 (from SECEdgar)\n",
      "Collecting flake8 (from SECEdgar)\n",
      "  Using cached https://files.pythonhosted.org/packages/e9/76/b915bd28976068a9843bf836b789794aa4a8eb13338b23581005cd9177c0/flake8-3.7.7-py2.py3-none-any.whl\n",
      "Collecting beautifulsoup4==4.4.0 (from SECEdgar)\n",
      "  Using cached https://files.pythonhosted.org/packages/63/05/e1b733dc34fce994954c06bd198486c1becc2839d64ac1747424d49e8a35/beautifulsoup4-4.4.0-py3-none-any.whl\n",
      "Requirement already satisfied: requests>=2.21.0 in /anaconda3/lib/python3.7/site-packages (from SECEdgar) (2.21.0)\n",
      "Requirement already satisfied: py>=1.5.0 in /anaconda3/lib/python3.7/site-packages (from pytest==3.6.3->SECEdgar) (1.8.0)\n",
      "Collecting pluggy<0.7,>=0.5 (from pytest==3.6.3->SECEdgar)\n",
      "  Using cached https://files.pythonhosted.org/packages/ba/65/ded3bc40bbf8d887f262f150fbe1ae6637765b5c9534bd55690ed2c0b0f7/pluggy-0.6.0-py3-none-any.whl\n",
      "Requirement already satisfied: attrs>=17.4.0 in /anaconda3/lib/python3.7/site-packages (from pytest==3.6.3->SECEdgar) (19.1.0)\n",
      "Requirement already satisfied: setuptools in /anaconda3/lib/python3.7/site-packages (from pytest==3.6.3->SECEdgar) (40.8.0)\n",
      "Requirement already satisfied: atomicwrites>=1.0 in /anaconda3/lib/python3.7/site-packages (from pytest==3.6.3->SECEdgar) (1.3.0)\n",
      "Requirement already satisfied: six>=1.10.0 in /anaconda3/lib/python3.7/site-packages (from pytest==3.6.3->SECEdgar) (1.12.0)\n",
      "Requirement already satisfied: more-itertools>=4.0.0 in /anaconda3/lib/python3.7/site-packages (from pytest==3.6.3->SECEdgar) (6.0.0)\n",
      "Requirement already satisfied: pycodestyle<2.6.0,>=2.5.0 in /anaconda3/lib/python3.7/site-packages (from flake8->SECEdgar) (2.5.0)\n",
      "Requirement already satisfied: mccabe<0.7.0,>=0.6.0 in /anaconda3/lib/python3.7/site-packages (from flake8->SECEdgar) (0.6.1)\n",
      "Requirement already satisfied: pyflakes<2.2.0,>=2.1.0 in /anaconda3/lib/python3.7/site-packages (from flake8->SECEdgar) (2.1.1)\n",
      "Requirement already satisfied: entrypoints<0.4.0,>=0.3.0 in /anaconda3/lib/python3.7/site-packages (from flake8->SECEdgar) (0.3)\n",
      "Requirement already satisfied: urllib3<1.25,>=1.21.1 in /anaconda3/lib/python3.7/site-packages (from requests>=2.21.0->SECEdgar) (1.24.1)\n",
      "Requirement already satisfied: certifi>=2017.4.17 in /anaconda3/lib/python3.7/site-packages (from requests>=2.21.0->SECEdgar) (2019.3.9)\n",
      "Requirement already satisfied: chardet<3.1.0,>=3.0.2 in /anaconda3/lib/python3.7/site-packages (from requests>=2.21.0->SECEdgar) (3.0.4)\n",
      "Requirement already satisfied: idna<2.9,>=2.5 in /anaconda3/lib/python3.7/site-packages (from requests>=2.21.0->SECEdgar) (2.8)\n",
      "Installing collected packages: pluggy, pytest, future, flake8, beautifulsoup4, SECEdgar\n",
      "  Found existing installation: pluggy 0.9.0\n",
      "    Uninstalling pluggy-0.9.0:\n",
      "      Successfully uninstalled pluggy-0.9.0\n",
      "  Found existing installation: pytest 4.3.1\n",
      "    Uninstalling pytest-4.3.1:\n",
      "      Successfully uninstalled pytest-4.3.1\n",
      "  Found existing installation: future 0.17.1\n",
      "    Uninstalling future-0.17.1:\n",
      "      Successfully uninstalled future-0.17.1\n",
      "  Found existing installation: beautifulsoup4 4.7.1\n",
      "    Uninstalling beautifulsoup4-4.7.1:\n",
      "      Successfully uninstalled beautifulsoup4-4.7.1\n",
      "Successfully installed SECEdgar-0.1.4 beautifulsoup4-4.4.0 flake8-3.7.7 future-0.13.1 pluggy-0.6.0 pytest-3.6.3\n"
     ]
    }
   ],
   "source": [
    "import sys\n",
    "!{sys.executable} -m pip install SECEdgar"
   ]
  },
  {
   "cell_type": "code",
   "execution_count": 8,
   "metadata": {},
   "outputs": [
    {
     "name": "stdout",
     "output_type": "stream",
     "text": [
      "Collecting sec-edgar-downloader\n",
      "  Downloading https://files.pythonhosted.org/packages/3b/c6/c94550fbba5a913d95414592dbe3cb624965070c0df0c0aa53f83f81542f/sec_edgar_downloader-2.0.1-py3-none-any.whl\n",
      "Requirement already satisfied: lxml in /anaconda3/lib/python3.7/site-packages (from sec-edgar-downloader) (4.3.2)\n",
      "Requirement already satisfied: requests in /anaconda3/lib/python3.7/site-packages (from sec-edgar-downloader) (2.21.0)\n",
      "Requirement already satisfied: beautifulsoup4 in /anaconda3/lib/python3.7/site-packages (from sec-edgar-downloader) (4.4.0)\n",
      "Requirement already satisfied: idna<2.9,>=2.5 in /anaconda3/lib/python3.7/site-packages (from requests->sec-edgar-downloader) (2.8)\n",
      "Requirement already satisfied: urllib3<1.25,>=1.21.1 in /anaconda3/lib/python3.7/site-packages (from requests->sec-edgar-downloader) (1.24.1)\n",
      "Requirement already satisfied: chardet<3.1.0,>=3.0.2 in /anaconda3/lib/python3.7/site-packages (from requests->sec-edgar-downloader) (3.0.4)\n",
      "Requirement already satisfied: certifi>=2017.4.17 in /anaconda3/lib/python3.7/site-packages (from requests->sec-edgar-downloader) (2019.3.9)\n",
      "Installing collected packages: sec-edgar-downloader\n",
      "Successfully installed sec-edgar-downloader-2.0.1\n"
     ]
    }
   ],
   "source": [
    "!{sys.executable} -m pip install sec-edgar-downloader"
   ]
  },
  {
   "cell_type": "code",
   "execution_count": 9,
   "metadata": {},
   "outputs": [],
   "source": [
    "from sec_edgar_downloader import Downloader"
   ]
  },
  {
   "cell_type": "code",
   "execution_count": 12,
   "metadata": {},
   "outputs": [],
   "source": [
    "from SECEdgar.crawler import SecCrawler\n",
    "import time"
   ]
  },
  {
   "cell_type": "code",
   "execution_count": 14,
   "metadata": {},
   "outputs": [
    {
     "name": "stdout",
     "output_type": "stream",
     "text": [
      "Collecting python-edgar\n",
      "  Using cached https://files.pythonhosted.org/packages/44/c7/850e12c943929d239be84928b85d447098751fc156d3ec095dc0512f0bb7/python_edgar-2.6.1-py3-none-any.whl\n",
      "Installing collected packages: python-edgar\n",
      "Successfully installed python-edgar-2.6.1\n"
     ]
    }
   ],
   "source": [
    "!{sys.executable} -m pip install python-edgar"
   ]
  },
  {
   "cell_type": "code",
   "execution_count": 25,
   "metadata": {},
   "outputs": [
    {
     "name": "stdout",
     "output_type": "stream",
     "text": [
      "Collecting sec-edgar-download\n",
      "\u001b[?25l  Downloading https://files.pythonhosted.org/packages/fe/c4/24b34fb807daabfa021d357885c99c9bcd3b881d464e152c95deea9fc1b0/sec_edgar_download-0.1.1.tar.gz (661kB)\n",
      "\u001b[K    100% |████████████████████████████████| 665kB 3.1MB/s ta 0:00:01\n",
      "\u001b[?25hCollecting bs4 (from sec-edgar-download)\n",
      "  Downloading https://files.pythonhosted.org/packages/10/ed/7e8b97591f6f456174139ec089c769f89a94a1a4025fe967691de971f314/bs4-0.0.1.tar.gz\n",
      "Collecting docopt>=0.6.0 (from sec-edgar-download)\n",
      "  Downloading https://files.pythonhosted.org/packages/a2/55/8f8cab2afd404cf578136ef2cc5dfb50baa1761b68c9da1fb1e4eed343c9/docopt-0.6.2.tar.gz\n",
      "Requirement already satisfied: lxml in /anaconda3/lib/python3.7/site-packages (from sec-edgar-download) (4.3.2)\n",
      "Requirement already satisfied: pandas in /anaconda3/lib/python3.7/site-packages (from sec-edgar-download) (0.24.2)\n",
      "Requirement already satisfied: requests in /anaconda3/lib/python3.7/site-packages (from sec-edgar-download) (2.21.0)\n",
      "Requirement already satisfied: beautifulsoup4 in /anaconda3/lib/python3.7/site-packages (from bs4->sec-edgar-download) (4.4.0)\n",
      "Requirement already satisfied: python-dateutil>=2.5.0 in /anaconda3/lib/python3.7/site-packages (from pandas->sec-edgar-download) (2.8.0)\n",
      "Requirement already satisfied: pytz>=2011k in /anaconda3/lib/python3.7/site-packages (from pandas->sec-edgar-download) (2018.9)\n",
      "Requirement already satisfied: numpy>=1.12.0 in /anaconda3/lib/python3.7/site-packages (from pandas->sec-edgar-download) (1.16.2)\n",
      "Requirement already satisfied: chardet<3.1.0,>=3.0.2 in /anaconda3/lib/python3.7/site-packages (from requests->sec-edgar-download) (3.0.4)\n",
      "Requirement already satisfied: urllib3<1.25,>=1.21.1 in /anaconda3/lib/python3.7/site-packages (from requests->sec-edgar-download) (1.24.1)\n",
      "Requirement already satisfied: idna<2.9,>=2.5 in /anaconda3/lib/python3.7/site-packages (from requests->sec-edgar-download) (2.8)\n",
      "Requirement already satisfied: certifi>=2017.4.17 in /anaconda3/lib/python3.7/site-packages (from requests->sec-edgar-download) (2019.3.9)\n",
      "Requirement already satisfied: six>=1.5 in /anaconda3/lib/python3.7/site-packages (from python-dateutil>=2.5.0->pandas->sec-edgar-download) (1.12.0)\n",
      "Building wheels for collected packages: sec-edgar-download, bs4, docopt\n",
      "  Building wheel for sec-edgar-download (setup.py) ... \u001b[?25ldone\n",
      "\u001b[?25h  Stored in directory: /Users/vanessatorres/Library/Caches/pip/wheels/bb/9c/51/45dfd5a8930cf62365f8b0aa4914acbab266e6a51f6e48e704\n",
      "  Building wheel for bs4 (setup.py) ... \u001b[?25ldone\n",
      "\u001b[?25h  Stored in directory: /Users/vanessatorres/Library/Caches/pip/wheels/a0/b0/b2/4f80b9456b87abedbc0bf2d52235414c3467d8889be38dd472\n",
      "  Building wheel for docopt (setup.py) ... \u001b[?25ldone\n",
      "\u001b[?25h  Stored in directory: /Users/vanessatorres/Library/Caches/pip/wheels/9b/04/dd/7daf4150b6d9b12949298737de9431a324d4b797ffd63f526e\n",
      "Successfully built sec-edgar-download bs4 docopt\n",
      "Installing collected packages: bs4, docopt, sec-edgar-download\n",
      "Successfully installed bs4-0.0.1 docopt-0.6.2 sec-edgar-download-0.1.1\n"
     ]
    }
   ],
   "source": [
    "import edgar\n",
    "!{sys.executable} -m pip install sec-edgar-download"
   ]
  },
  {
   "cell_type": "code",
   "execution_count": 27,
   "metadata": {},
   "outputs": [
    {
     "name": "stderr",
     "output_type": "stream",
     "text": [
      "INFO:root:Downloaded RSS feed: ./edgar/rss-archives/xbrlrss-2016-01.xml\n",
      "INFO:root:Parsing RSS feed ./edgar/rss-archives/xbrlrss-2016-01.xml\n",
      "INFO:root:Downloaded RSS feed: ./edgar/rss-archives/xbrlrss-2016-02.xml\n",
      "INFO:root:Parsing RSS feed ./edgar/rss-archives/xbrlrss-2016-02.xml\n",
      "INFO:root:Downloaded RSS feed: ./edgar/rss-archives/xbrlrss-2016-03.xml\n",
      "INFO:root:Parsing RSS feed ./edgar/rss-archives/xbrlrss-2016-03.xml\n",
      "INFO:root:Downloaded RSS feed: ./edgar/rss-archives/xbrlrss-2016-04.xml\n",
      "INFO:root:Parsing RSS feed ./edgar/rss-archives/xbrlrss-2016-04.xml\n",
      "INFO:root:Downloaded RSS feed: ./edgar/rss-archives/xbrlrss-2016-05.xml\n",
      "INFO:root:Parsing RSS feed ./edgar/rss-archives/xbrlrss-2016-05.xml\n",
      "INFO:root:Downloaded RSS feed: ./edgar/rss-archives/xbrlrss-2016-06.xml\n",
      "INFO:root:Parsing RSS feed ./edgar/rss-archives/xbrlrss-2016-06.xml\n",
      "INFO:root:Downloaded RSS feed: ./edgar/rss-archives/xbrlrss-2016-07.xml\n",
      "INFO:root:Parsing RSS feed ./edgar/rss-archives/xbrlrss-2016-07.xml\n",
      "WARNING:root:No EX-101 or EX-100 xml files found for  MARTIN MIDSTREAM PARTNERS LP (0001176334) (Filer)\n",
      "WARNING:root:No EX-101 or EX-100 xml files found for  Pandora Media, Inc. (0001230276) (Filer)\n",
      "WARNING:root:No EX-101 or EX-100 xml files found for  CCA INDUSTRIES INC (0000721447) (Filer)\n",
      "WARNING:root:No EX-101 or EX-100 xml files found for  LENNAR CORP /NEW/ (0000920760) (Filer)\n",
      "INFO:root:Downloaded RSS feed: ./edgar/rss-archives/xbrlrss-2016-08.xml\n",
      "INFO:root:Parsing RSS feed ./edgar/rss-archives/xbrlrss-2016-08.xml\n",
      "WARNING:root:No EX-101 or EX-100 xml files found for  Calpian, Inc. (0001414628) (Filer)\n",
      "WARNING:root:No EX-101 or EX-100 xml files found for  EnerSys (0001289308) (Filer)\n",
      "WARNING:root:No EX-101 or EX-100 xml files found for  WORKIVA INC (0001445305) (Filer)\n",
      "INFO:root:Downloaded RSS feed: ./edgar/rss-archives/xbrlrss-2016-09.xml\n",
      "INFO:root:Parsing RSS feed ./edgar/rss-archives/xbrlrss-2016-09.xml\n",
      "WARNING:root:No EX-101 or EX-100 xml files found for  Calpian, Inc. (0001414628) (Filer)\n",
      "INFO:root:Downloaded RSS feed: ./edgar/rss-archives/xbrlrss-2016-10.xml\n",
      "INFO:root:Parsing RSS feed ./edgar/rss-archives/xbrlrss-2016-10.xml\n",
      "WARNING:root:No EX-101 or EX-100 xml files found for  Boardwalk Pipeline Partners, LP (0001336047) (Filer)\n",
      "WARNING:root:No EX-101 or EX-100 xml files found for  Fortive Corp (0001659166) (Filer)\n",
      "WARNING:root:No EX-101 or EX-100 xml files found for  Pandora Media, Inc. (0001230276) (Filer)\n",
      "WARNING:root:No EX-101 or EX-100 xml files found for  MARTIN MIDSTREAM PARTNERS LP (0001176334) (Filer)\n",
      "WARNING:root:No EX-101 or EX-100 xml files found for  NATURAL HEALTH TRENDS CORP (0000912061) (Filer)\n",
      "WARNING:root:No EX-101 or EX-100 xml files found for  CCA INDUSTRIES INC (0000721447) (Filer)\n",
      "WARNING:root:No EX-101 or EX-100 xml files found for  DELTA AIR LINES INC /DE/ (0000027904) (Filer)\n",
      "WARNING:root:No EX-101 or EX-100 xml files found for  YUM BRANDS INC (0001041061) (Filer)\n",
      "WARNING:root:No EX-101 or EX-100 xml files found for  LENNAR CORP /NEW/ (0000920760) (Filer)\n",
      "INFO:root:Downloaded RSS feed: ./edgar/rss-archives/xbrlrss-2016-11.xml\n",
      "INFO:root:Parsing RSS feed ./edgar/rss-archives/xbrlrss-2016-11.xml\n",
      "WARNING:root:No EX-101 or EX-100 xml files found for  Lightwave Logic, Inc. (0001325964) (Filer)\n",
      "WARNING:root:No EX-101 or EX-100 xml files found for  MoneyOnMobile, Inc. (0001414628) (Filer)\n",
      "WARNING:root:No EX-101 or EX-100 xml files found for  WORKIVA INC (0001445305) (Filer)\n",
      "WARNING:root:No EX-101 or EX-100 xml files found for  EnerSys (0001289308) (Filer)\n",
      "WARNING:root:No EX-101 or EX-100 xml files found for  LGI Homes, Inc. (0001580670) (Filer)\n",
      "WARNING:root:No EX-101 or EX-100 xml files found for  Fiesta Restaurant Group, Inc. (0001534992) (Filer)\n",
      "WARNING:root:No EX-101 or EX-100 xml files found for  State Auto Financial CORP (0000874977) (Filer)\n",
      "WARNING:root:No EX-101 or EX-100 xml files found for  NOODLES & Co (0001275158) (Filer)\n",
      "WARNING:root:No EX-101 or EX-100 xml files found for  ServiceNow, Inc. (0001373715) (Filer)\n",
      "WARNING:root:No EX-101 or EX-100 xml files found for  AMERITYRE CORP (0000945828) (Filer)\n",
      "WARNING:root:No EX-101 or EX-100 xml files found for  BIO RAD LABORATORIES INC (0000012208) (Filer)\n",
      "WARNING:root:No EX-101 or EX-100 xml files found for  Xylem Inc. (0001524472) (Filer)\n",
      "INFO:root:Downloaded RSS feed: ./edgar/rss-archives/xbrlrss-2016-12.xml\n",
      "INFO:root:Parsing RSS feed ./edgar/rss-archives/xbrlrss-2016-12.xml\n",
      "INFO:root:Dropped 436 duplicates\n",
      "INFO:root:32662 items parsed\n",
      "INFO:root:Saved feed details to ./edgar/edgar.db\n",
      "\n"
     ]
    }
   ],
   "source": [
    "from sec_edgar_download import indexer as ix\n",
    "work_dir ='./edgar'\n",
    "from_year = 2016\n",
    "to_year = 2016\n",
    "indexer = ix.SecIndexer(work_dir)\n",
    "indexer.download_sec_feeds(from_year, to_year)"
   ]
  },
  {
   "cell_type": "code",
   "execution_count": 29,
   "metadata": {},
   "outputs": [],
   "source": [
    "cik = ix.get_cik('INTC')"
   ]
  },
  {
   "cell_type": "code",
   "execution_count": 30,
   "metadata": {},
   "outputs": [
    {
     "name": "stdout",
     "output_type": "stream",
     "text": [
      "Downloading file http://www.sec.gov/Archives/edgar/data/50863/000005086316000105/intc-20151226.xml\n",
      "To ./edgar/filings/intc-20151226.xml\n",
      "Downloading file http://www.sec.gov/Archives/edgar/data/50863/000005086316000125/intc-20160402.xml\n",
      "To ./edgar/filings/intc-20160402.xml\n",
      "Downloading file http://www.sec.gov/Archives/edgar/data/50863/000005086316000142/intc-20160702.xml\n",
      "To ./edgar/filings/intc-20160702.xml\n",
      "Downloading file http://www.sec.gov/Archives/edgar/data/50863/000005086316000153/intc-20161001.xml\n",
      "To ./edgar/filings/intc-20161001.xml\n"
     ]
    }
   ],
   "source": [
    "indexer.download_xbrl_data(cik, from_year, to_year, 'All')"
   ]
  },
  {
   "cell_type": "code",
   "execution_count": 34,
   "metadata": {},
   "outputs": [],
   "source": [
    "class EDGARQueryError(Exception):\n",
    "    \"\"\"\n",
    "    This error is thrown when a query receives a response that is not a 200 response.\n",
    "    \"\"\"\n",
    "\n",
    "    def __init__(self, response):\n",
    "        self.response = response\n",
    "\n",
    "    def __str__(self):\n",
    "        return \"An error occured while making the query. Received {response} response\".format(\n",
    "            response=self.response\n",
    "        )\n",
    "\n",
    "\n",
    "class EDGARFieldError(Exception):\n",
    "    \"\"\"\n",
    "    This error is thrown when an invalid field is given to an endpoint.\n",
    "    \"\"\"\n",
    "\n",
    "    def __init__(self, endpoint, field):\n",
    "        self.endpoint = endpoint\n",
    "        self.field = field\n",
    "\n",
    "    def __str__(self):\n",
    "        return \"Field {field} not found in endpoint {endpoint}\".format(\n",
    "            field=self.field, endpoint=self.endpoint\n",
    "        )\n",
    "\n",
    "\n",
    "class CIKError(Exception):\n",
    "    \"\"\"\n",
    "    This error is thrown when an invalid CIK is given.\n",
    "    \"\"\"\n",
    "\n",
    "    def __init__(self, cik):\n",
    "        self.cik = cik\n",
    "\n",
    "    def __str__(self):\n",
    "        return \"CIK {cik} is not valid. Must be str or int with 10 digits.\".format(cik=self.cik)"
   ]
  },
  {
   "cell_type": "code",
   "execution_count": 39,
   "metadata": {},
   "outputs": [
    {
     "ename": "NameError",
     "evalue": "name '__file__' is not defined",
     "output_type": "error",
     "traceback": [
      "\u001b[0;31m---------------------------------------------------------------------------\u001b[0m",
      "\u001b[0;31mNameError\u001b[0m                                 Traceback (most recent call last)",
      "\u001b[0;32m<ipython-input-39-c45f05ac7d08>\u001b[0m in \u001b[0;36m<module>\u001b[0;34m\u001b[0m\n\u001b[1;32m      1\u001b[0m DEFAULT_DATA_PATH = os.path.abspath(os.path.join(\n\u001b[0;32m----> 2\u001b[0;31m     os.path.dirname(__file__), '..', 'SEC-Edgar-Data'))\n\u001b[0m",
      "\u001b[0;31mNameError\u001b[0m: name '__file__' is not defined"
     ]
    }
   ],
   "source": [
    "DEFAULT_DATA_PATH = os.path.abspath(os.path.join(\n",
    "    os.path.dirname(__file__), '..', 'SEC-Edgar-Data'))"
   ]
  },
  {
   "cell_type": "code",
   "execution_count": null,
   "metadata": {},
   "outputs": [],
   "source": []
  }
 ],
 "metadata": {
  "kernelspec": {
   "display_name": "Python 3",
   "language": "python",
   "name": "python3"
  },
  "language_info": {
   "codemirror_mode": {
    "name": "ipython",
    "version": 3
   },
   "file_extension": ".py",
   "mimetype": "text/x-python",
   "name": "python",
   "nbconvert_exporter": "python",
   "pygments_lexer": "ipython3",
   "version": "3.7.3"
  }
 },
 "nbformat": 4,
 "nbformat_minor": 2
}
