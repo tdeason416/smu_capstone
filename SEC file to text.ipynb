{
 "cells": [
  {
   "cell_type": "code",
   "execution_count": 3,
   "metadata": {},
   "outputs": [],
   "source": [
    "import pandas as pd\n",
    "import os\n",
    "import requests\n",
    "import bs4 as bs"
   ]
  },
  {
   "cell_type": "code",
   "execution_count": 4,
   "metadata": {},
   "outputs": [],
   "source": [
    "url = \"https://www.sec.gov/Archives/edgar/data/320193/000032019318000070/a10-qq220183312018.htm\""
   ]
  },
  {
   "cell_type": "code",
   "execution_count": 5,
   "metadata": {},
   "outputs": [],
   "source": [
    "page = pd.read_html(url)"
   ]
  },
  {
   "cell_type": "markdown",
   "metadata": {},
   "source": [
    "#### Tables are easily getable, but pretty messy"
   ]
  },
  {
   "cell_type": "code",
   "execution_count": 10,
   "metadata": {},
   "outputs": [
    {
     "data": {
      "text/html": [
       "<div>\n",
       "<style scoped>\n",
       "    .dataframe tbody tr th:only-of-type {\n",
       "        vertical-align: middle;\n",
       "    }\n",
       "\n",
       "    .dataframe tbody tr th {\n",
       "        vertical-align: top;\n",
       "    }\n",
       "\n",
       "    .dataframe thead th {\n",
       "        text-align: right;\n",
       "    }\n",
       "</style>\n",
       "<table border=\"1\" class=\"dataframe\">\n",
       "  <thead>\n",
       "    <tr style=\"text-align: right;\">\n",
       "      <th></th>\n",
       "      <th>0</th>\n",
       "      <th>1</th>\n",
       "      <th>2</th>\n",
       "      <th>3</th>\n",
       "      <th>4</th>\n",
       "      <th>5</th>\n",
       "      <th>6</th>\n",
       "      <th>7</th>\n",
       "    </tr>\n",
       "  </thead>\n",
       "  <tbody>\n",
       "    <tr>\n",
       "      <th>0</th>\n",
       "      <td>NaN</td>\n",
       "      <td>NaN</td>\n",
       "      <td>NaN</td>\n",
       "      <td>NaN</td>\n",
       "      <td>NaN</td>\n",
       "      <td>NaN</td>\n",
       "      <td>NaN</td>\n",
       "      <td>NaN</td>\n",
       "    </tr>\n",
       "    <tr>\n",
       "      <th>1</th>\n",
       "      <td>NaN</td>\n",
       "      <td>NaN</td>\n",
       "      <td>NaN</td>\n",
       "      <td>NaN</td>\n",
       "      <td>NaN</td>\n",
       "      <td>NaN</td>\n",
       "      <td>NaN</td>\n",
       "      <td>NaN</td>\n",
       "    </tr>\n",
       "    <tr>\n",
       "      <th>2</th>\n",
       "      <td>NaN</td>\n",
       "      <td>March 31, 2018</td>\n",
       "      <td>NaN</td>\n",
       "      <td>September 30, 2017</td>\n",
       "      <td>NaN</td>\n",
       "      <td>NaN</td>\n",
       "      <td>NaN</td>\n",
       "      <td>NaN</td>\n",
       "    </tr>\n",
       "    <tr>\n",
       "      <th>3</th>\n",
       "      <td>ASSETS:</td>\n",
       "      <td>NaN</td>\n",
       "      <td>NaN</td>\n",
       "      <td>NaN</td>\n",
       "      <td>NaN</td>\n",
       "      <td>NaN</td>\n",
       "      <td>NaN</td>\n",
       "      <td>NaN</td>\n",
       "    </tr>\n",
       "    <tr>\n",
       "      <th>4</th>\n",
       "      <td>Current assets:</td>\n",
       "      <td>NaN</td>\n",
       "      <td>NaN</td>\n",
       "      <td>NaN</td>\n",
       "      <td>NaN</td>\n",
       "      <td>NaN</td>\n",
       "      <td>NaN</td>\n",
       "      <td>NaN</td>\n",
       "    </tr>\n",
       "    <tr>\n",
       "      <th>5</th>\n",
       "      <td>Cash and cash equivalents</td>\n",
       "      <td>$</td>\n",
       "      <td>45059</td>\n",
       "      <td>NaN</td>\n",
       "      <td>NaN</td>\n",
       "      <td>$</td>\n",
       "      <td>20289.0</td>\n",
       "      <td>NaN</td>\n",
       "    </tr>\n",
       "    <tr>\n",
       "      <th>6</th>\n",
       "      <td>Short-term marketable securities</td>\n",
       "      <td>42881</td>\n",
       "      <td>NaN</td>\n",
       "      <td>NaN</td>\n",
       "      <td>53892</td>\n",
       "      <td>NaN</td>\n",
       "      <td>NaN</td>\n",
       "      <td>NaN</td>\n",
       "    </tr>\n",
       "    <tr>\n",
       "      <th>7</th>\n",
       "      <td>Accounts receivable, less allowances of $60 an...</td>\n",
       "      <td>14324</td>\n",
       "      <td>NaN</td>\n",
       "      <td>NaN</td>\n",
       "      <td>17874</td>\n",
       "      <td>NaN</td>\n",
       "      <td>NaN</td>\n",
       "      <td>NaN</td>\n",
       "    </tr>\n",
       "    <tr>\n",
       "      <th>8</th>\n",
       "      <td>Inventories</td>\n",
       "      <td>7662</td>\n",
       "      <td>NaN</td>\n",
       "      <td>NaN</td>\n",
       "      <td>4855</td>\n",
       "      <td>NaN</td>\n",
       "      <td>NaN</td>\n",
       "      <td>NaN</td>\n",
       "    </tr>\n",
       "    <tr>\n",
       "      <th>9</th>\n",
       "      <td>Vendor non-trade receivables</td>\n",
       "      <td>8084</td>\n",
       "      <td>NaN</td>\n",
       "      <td>NaN</td>\n",
       "      <td>17799</td>\n",
       "      <td>NaN</td>\n",
       "      <td>NaN</td>\n",
       "      <td>NaN</td>\n",
       "    </tr>\n",
       "    <tr>\n",
       "      <th>10</th>\n",
       "      <td>Other current assets</td>\n",
       "      <td>12043</td>\n",
       "      <td>NaN</td>\n",
       "      <td>NaN</td>\n",
       "      <td>13936</td>\n",
       "      <td>NaN</td>\n",
       "      <td>NaN</td>\n",
       "      <td>NaN</td>\n",
       "    </tr>\n",
       "    <tr>\n",
       "      <th>11</th>\n",
       "      <td>Total current assets</td>\n",
       "      <td>130053</td>\n",
       "      <td>NaN</td>\n",
       "      <td>NaN</td>\n",
       "      <td>128645</td>\n",
       "      <td>NaN</td>\n",
       "      <td>NaN</td>\n",
       "      <td>NaN</td>\n",
       "    </tr>\n",
       "    <tr>\n",
       "      <th>12</th>\n",
       "      <td>NaN</td>\n",
       "      <td>NaN</td>\n",
       "      <td>NaN</td>\n",
       "      <td>NaN</td>\n",
       "      <td>NaN</td>\n",
       "      <td>NaN</td>\n",
       "      <td>NaN</td>\n",
       "      <td>NaN</td>\n",
       "    </tr>\n",
       "    <tr>\n",
       "      <th>13</th>\n",
       "      <td>Long-term marketable securities</td>\n",
       "      <td>179286</td>\n",
       "      <td>NaN</td>\n",
       "      <td>NaN</td>\n",
       "      <td>194714</td>\n",
       "      <td>NaN</td>\n",
       "      <td>NaN</td>\n",
       "      <td>NaN</td>\n",
       "    </tr>\n",
       "    <tr>\n",
       "      <th>14</th>\n",
       "      <td>Property, plant and equipment, net</td>\n",
       "      <td>35077</td>\n",
       "      <td>NaN</td>\n",
       "      <td>NaN</td>\n",
       "      <td>33783</td>\n",
       "      <td>NaN</td>\n",
       "      <td>NaN</td>\n",
       "      <td>NaN</td>\n",
       "    </tr>\n",
       "    <tr>\n",
       "      <th>15</th>\n",
       "      <td>Other non-current assets</td>\n",
       "      <td>23086</td>\n",
       "      <td>NaN</td>\n",
       "      <td>NaN</td>\n",
       "      <td>18177</td>\n",
       "      <td>NaN</td>\n",
       "      <td>NaN</td>\n",
       "      <td>NaN</td>\n",
       "    </tr>\n",
       "    <tr>\n",
       "      <th>16</th>\n",
       "      <td>Total assets</td>\n",
       "      <td>$</td>\n",
       "      <td>367502</td>\n",
       "      <td>NaN</td>\n",
       "      <td>NaN</td>\n",
       "      <td>$</td>\n",
       "      <td>375319.0</td>\n",
       "      <td>NaN</td>\n",
       "    </tr>\n",
       "    <tr>\n",
       "      <th>17</th>\n",
       "      <td>NaN</td>\n",
       "      <td>NaN</td>\n",
       "      <td>NaN</td>\n",
       "      <td>NaN</td>\n",
       "      <td>NaN</td>\n",
       "      <td>NaN</td>\n",
       "      <td>NaN</td>\n",
       "      <td>NaN</td>\n",
       "    </tr>\n",
       "    <tr>\n",
       "      <th>18</th>\n",
       "      <td>LIABILITIES AND SHAREHOLDERS’ EQUITY:</td>\n",
       "      <td>NaN</td>\n",
       "      <td>NaN</td>\n",
       "      <td>NaN</td>\n",
       "      <td>NaN</td>\n",
       "      <td>NaN</td>\n",
       "      <td>NaN</td>\n",
       "      <td>NaN</td>\n",
       "    </tr>\n",
       "    <tr>\n",
       "      <th>19</th>\n",
       "      <td>Current liabilities:</td>\n",
       "      <td>NaN</td>\n",
       "      <td>NaN</td>\n",
       "      <td>NaN</td>\n",
       "      <td>NaN</td>\n",
       "      <td>NaN</td>\n",
       "      <td>NaN</td>\n",
       "      <td>NaN</td>\n",
       "    </tr>\n",
       "    <tr>\n",
       "      <th>20</th>\n",
       "      <td>Accounts payable</td>\n",
       "      <td>$</td>\n",
       "      <td>34311</td>\n",
       "      <td>NaN</td>\n",
       "      <td>NaN</td>\n",
       "      <td>$</td>\n",
       "      <td>49049.0</td>\n",
       "      <td>NaN</td>\n",
       "    </tr>\n",
       "    <tr>\n",
       "      <th>21</th>\n",
       "      <td>Accrued expenses</td>\n",
       "      <td>26756</td>\n",
       "      <td>NaN</td>\n",
       "      <td>NaN</td>\n",
       "      <td>25744</td>\n",
       "      <td>NaN</td>\n",
       "      <td>NaN</td>\n",
       "      <td>NaN</td>\n",
       "    </tr>\n",
       "    <tr>\n",
       "      <th>22</th>\n",
       "      <td>Deferred revenue</td>\n",
       "      <td>7775</td>\n",
       "      <td>NaN</td>\n",
       "      <td>NaN</td>\n",
       "      <td>7548</td>\n",
       "      <td>NaN</td>\n",
       "      <td>NaN</td>\n",
       "      <td>NaN</td>\n",
       "    </tr>\n",
       "    <tr>\n",
       "      <th>23</th>\n",
       "      <td>Commercial paper</td>\n",
       "      <td>11980</td>\n",
       "      <td>NaN</td>\n",
       "      <td>NaN</td>\n",
       "      <td>11977</td>\n",
       "      <td>NaN</td>\n",
       "      <td>NaN</td>\n",
       "      <td>NaN</td>\n",
       "    </tr>\n",
       "    <tr>\n",
       "      <th>24</th>\n",
       "      <td>Current portion of long-term debt</td>\n",
       "      <td>8498</td>\n",
       "      <td>NaN</td>\n",
       "      <td>NaN</td>\n",
       "      <td>6496</td>\n",
       "      <td>NaN</td>\n",
       "      <td>NaN</td>\n",
       "      <td>NaN</td>\n",
       "    </tr>\n",
       "    <tr>\n",
       "      <th>25</th>\n",
       "      <td>Total current liabilities</td>\n",
       "      <td>89320</td>\n",
       "      <td>NaN</td>\n",
       "      <td>NaN</td>\n",
       "      <td>100814</td>\n",
       "      <td>NaN</td>\n",
       "      <td>NaN</td>\n",
       "      <td>NaN</td>\n",
       "    </tr>\n",
       "    <tr>\n",
       "      <th>26</th>\n",
       "      <td>NaN</td>\n",
       "      <td>NaN</td>\n",
       "      <td>NaN</td>\n",
       "      <td>NaN</td>\n",
       "      <td>NaN</td>\n",
       "      <td>NaN</td>\n",
       "      <td>NaN</td>\n",
       "      <td>NaN</td>\n",
       "    </tr>\n",
       "    <tr>\n",
       "      <th>27</th>\n",
       "      <td>Deferred revenue, non-current</td>\n",
       "      <td>3087</td>\n",
       "      <td>NaN</td>\n",
       "      <td>NaN</td>\n",
       "      <td>2836</td>\n",
       "      <td>NaN</td>\n",
       "      <td>NaN</td>\n",
       "      <td>NaN</td>\n",
       "    </tr>\n",
       "    <tr>\n",
       "      <th>28</th>\n",
       "      <td>Long-term debt</td>\n",
       "      <td>101362</td>\n",
       "      <td>NaN</td>\n",
       "      <td>NaN</td>\n",
       "      <td>97207</td>\n",
       "      <td>NaN</td>\n",
       "      <td>NaN</td>\n",
       "      <td>NaN</td>\n",
       "    </tr>\n",
       "    <tr>\n",
       "      <th>29</th>\n",
       "      <td>Other non-current liabilities</td>\n",
       "      <td>46855</td>\n",
       "      <td>NaN</td>\n",
       "      <td>NaN</td>\n",
       "      <td>40415</td>\n",
       "      <td>NaN</td>\n",
       "      <td>NaN</td>\n",
       "      <td>NaN</td>\n",
       "    </tr>\n",
       "    <tr>\n",
       "      <th>30</th>\n",
       "      <td>Total liabilities</td>\n",
       "      <td>240624</td>\n",
       "      <td>NaN</td>\n",
       "      <td>NaN</td>\n",
       "      <td>241272</td>\n",
       "      <td>NaN</td>\n",
       "      <td>NaN</td>\n",
       "      <td>NaN</td>\n",
       "    </tr>\n",
       "    <tr>\n",
       "      <th>31</th>\n",
       "      <td>NaN</td>\n",
       "      <td>NaN</td>\n",
       "      <td>NaN</td>\n",
       "      <td>NaN</td>\n",
       "      <td>NaN</td>\n",
       "      <td>NaN</td>\n",
       "      <td>NaN</td>\n",
       "      <td>NaN</td>\n",
       "    </tr>\n",
       "    <tr>\n",
       "      <th>32</th>\n",
       "      <td>Commitments and contingencies</td>\n",
       "      <td>NaN</td>\n",
       "      <td>NaN</td>\n",
       "      <td>NaN</td>\n",
       "      <td>NaN</td>\n",
       "      <td>NaN</td>\n",
       "      <td>NaN</td>\n",
       "      <td>NaN</td>\n",
       "    </tr>\n",
       "    <tr>\n",
       "      <th>33</th>\n",
       "      <td>NaN</td>\n",
       "      <td>NaN</td>\n",
       "      <td>NaN</td>\n",
       "      <td>NaN</td>\n",
       "      <td>NaN</td>\n",
       "      <td>NaN</td>\n",
       "      <td>NaN</td>\n",
       "      <td>NaN</td>\n",
       "    </tr>\n",
       "    <tr>\n",
       "      <th>34</th>\n",
       "      <td>Shareholders’ equity:</td>\n",
       "      <td>NaN</td>\n",
       "      <td>NaN</td>\n",
       "      <td>NaN</td>\n",
       "      <td>NaN</td>\n",
       "      <td>NaN</td>\n",
       "      <td>NaN</td>\n",
       "      <td>NaN</td>\n",
       "    </tr>\n",
       "    <tr>\n",
       "      <th>35</th>\n",
       "      <td>Common stock and additional paid-in capital, $...</td>\n",
       "      <td>38044</td>\n",
       "      <td>NaN</td>\n",
       "      <td>NaN</td>\n",
       "      <td>35867</td>\n",
       "      <td>NaN</td>\n",
       "      <td>NaN</td>\n",
       "      <td>NaN</td>\n",
       "    </tr>\n",
       "    <tr>\n",
       "      <th>36</th>\n",
       "      <td>Retained earnings</td>\n",
       "      <td>91898</td>\n",
       "      <td>NaN</td>\n",
       "      <td>NaN</td>\n",
       "      <td>98330</td>\n",
       "      <td>NaN</td>\n",
       "      <td>NaN</td>\n",
       "      <td>NaN</td>\n",
       "    </tr>\n",
       "    <tr>\n",
       "      <th>37</th>\n",
       "      <td>Accumulated other comprehensive income/(loss)</td>\n",
       "      <td>(3,064</td>\n",
       "      <td>)</td>\n",
       "      <td>NaN</td>\n",
       "      <td>(150</td>\n",
       "      <td>)</td>\n",
       "      <td>NaN</td>\n",
       "      <td>NaN</td>\n",
       "    </tr>\n",
       "    <tr>\n",
       "      <th>38</th>\n",
       "      <td>Total shareholders’ equity</td>\n",
       "      <td>126878</td>\n",
       "      <td>NaN</td>\n",
       "      <td>NaN</td>\n",
       "      <td>134047</td>\n",
       "      <td>NaN</td>\n",
       "      <td>NaN</td>\n",
       "      <td>NaN</td>\n",
       "    </tr>\n",
       "    <tr>\n",
       "      <th>39</th>\n",
       "      <td>Total liabilities and shareholders’ equity</td>\n",
       "      <td>$</td>\n",
       "      <td>367502</td>\n",
       "      <td>NaN</td>\n",
       "      <td>NaN</td>\n",
       "      <td>$</td>\n",
       "      <td>375319.0</td>\n",
       "      <td>NaN</td>\n",
       "    </tr>\n",
       "  </tbody>\n",
       "</table>\n",
       "</div>"
      ],
      "text/plain": [
       "                                                    0               1       2  \\\n",
       "0                                                 NaN             NaN     NaN   \n",
       "1                                                 NaN             NaN     NaN   \n",
       "2                                                 NaN  March 31, 2018     NaN   \n",
       "3                                             ASSETS:             NaN     NaN   \n",
       "4                                     Current assets:             NaN     NaN   \n",
       "5                           Cash and cash equivalents               $   45059   \n",
       "6                    Short-term marketable securities           42881     NaN   \n",
       "7   Accounts receivable, less allowances of $60 an...           14324     NaN   \n",
       "8                                         Inventories            7662     NaN   \n",
       "9                        Vendor non-trade receivables            8084     NaN   \n",
       "10                               Other current assets           12043     NaN   \n",
       "11                               Total current assets          130053     NaN   \n",
       "12                                                NaN             NaN     NaN   \n",
       "13                    Long-term marketable securities          179286     NaN   \n",
       "14                 Property, plant and equipment, net           35077     NaN   \n",
       "15                           Other non-current assets           23086     NaN   \n",
       "16                                       Total assets               $  367502   \n",
       "17                                                NaN             NaN     NaN   \n",
       "18              LIABILITIES AND SHAREHOLDERS’ EQUITY:             NaN     NaN   \n",
       "19                               Current liabilities:             NaN     NaN   \n",
       "20                                   Accounts payable               $   34311   \n",
       "21                                   Accrued expenses           26756     NaN   \n",
       "22                                   Deferred revenue            7775     NaN   \n",
       "23                                   Commercial paper           11980     NaN   \n",
       "24                  Current portion of long-term debt            8498     NaN   \n",
       "25                          Total current liabilities           89320     NaN   \n",
       "26                                                NaN             NaN     NaN   \n",
       "27                      Deferred revenue, non-current            3087     NaN   \n",
       "28                                     Long-term debt          101362     NaN   \n",
       "29                      Other non-current liabilities           46855     NaN   \n",
       "30                                  Total liabilities          240624     NaN   \n",
       "31                                                NaN             NaN     NaN   \n",
       "32                      Commitments and contingencies             NaN     NaN   \n",
       "33                                                NaN             NaN     NaN   \n",
       "34                              Shareholders’ equity:             NaN     NaN   \n",
       "35  Common stock and additional paid-in capital, $...           38044     NaN   \n",
       "36                                  Retained earnings           91898     NaN   \n",
       "37      Accumulated other comprehensive income/(loss)          (3,064       )   \n",
       "38                         Total shareholders’ equity          126878     NaN   \n",
       "39         Total liabilities and shareholders’ equity               $  367502   \n",
       "\n",
       "                     3       4    5         6   7  \n",
       "0                  NaN     NaN  NaN       NaN NaN  \n",
       "1                  NaN     NaN  NaN       NaN NaN  \n",
       "2   September 30, 2017     NaN  NaN       NaN NaN  \n",
       "3                  NaN     NaN  NaN       NaN NaN  \n",
       "4                  NaN     NaN  NaN       NaN NaN  \n",
       "5                  NaN     NaN    $   20289.0 NaN  \n",
       "6                  NaN   53892  NaN       NaN NaN  \n",
       "7                  NaN   17874  NaN       NaN NaN  \n",
       "8                  NaN    4855  NaN       NaN NaN  \n",
       "9                  NaN   17799  NaN       NaN NaN  \n",
       "10                 NaN   13936  NaN       NaN NaN  \n",
       "11                 NaN  128645  NaN       NaN NaN  \n",
       "12                 NaN     NaN  NaN       NaN NaN  \n",
       "13                 NaN  194714  NaN       NaN NaN  \n",
       "14                 NaN   33783  NaN       NaN NaN  \n",
       "15                 NaN   18177  NaN       NaN NaN  \n",
       "16                 NaN     NaN    $  375319.0 NaN  \n",
       "17                 NaN     NaN  NaN       NaN NaN  \n",
       "18                 NaN     NaN  NaN       NaN NaN  \n",
       "19                 NaN     NaN  NaN       NaN NaN  \n",
       "20                 NaN     NaN    $   49049.0 NaN  \n",
       "21                 NaN   25744  NaN       NaN NaN  \n",
       "22                 NaN    7548  NaN       NaN NaN  \n",
       "23                 NaN   11977  NaN       NaN NaN  \n",
       "24                 NaN    6496  NaN       NaN NaN  \n",
       "25                 NaN  100814  NaN       NaN NaN  \n",
       "26                 NaN     NaN  NaN       NaN NaN  \n",
       "27                 NaN    2836  NaN       NaN NaN  \n",
       "28                 NaN   97207  NaN       NaN NaN  \n",
       "29                 NaN   40415  NaN       NaN NaN  \n",
       "30                 NaN  241272  NaN       NaN NaN  \n",
       "31                 NaN     NaN  NaN       NaN NaN  \n",
       "32                 NaN     NaN  NaN       NaN NaN  \n",
       "33                 NaN     NaN  NaN       NaN NaN  \n",
       "34                 NaN     NaN  NaN       NaN NaN  \n",
       "35                 NaN   35867  NaN       NaN NaN  \n",
       "36                 NaN   98330  NaN       NaN NaN  \n",
       "37                 NaN    (150    )       NaN NaN  \n",
       "38                 NaN  134047  NaN       NaN NaN  \n",
       "39                 NaN     NaN    $  375319.0 NaN  "
      ]
     },
     "execution_count": 10,
     "metadata": {},
     "output_type": "execute_result"
    }
   ],
   "source": [
    "page[5]"
   ]
  },
  {
   "cell_type": "code",
   "execution_count": 12,
   "metadata": {},
   "outputs": [],
   "source": [
    "main_page = str(requests.get(url).text)\n",
    "page_soup = bs.BeautifulSoup(main_page, 'html.parser')"
   ]
  },
  {
   "cell_type": "code",
   "execution_count": 73,
   "metadata": {},
   "outputs": [],
   "source": [
    "divs = page_soup.find_all('div')"
   ]
  },
  {
   "cell_type": "code",
   "execution_count": 126,
   "metadata": {},
   "outputs": [
    {
     "data": {
      "text/plain": [
       "373"
      ]
     },
     "execution_count": 126,
     "metadata": {},
     "output_type": "execute_result"
    }
   ],
   "source": [
    "all_text = []\n",
    "count = 0\n",
    "try_count = 0\n",
    "for div in divs:\n",
    "    if len( div.getText() ) > 100:\n",
    "        all_text.append(div.getText())\n",
    "len(all_text)"
   ]
  },
  {
   "cell_type": "markdown",
   "metadata": {},
   "source": [
    "#### Prob can delete anything that starts with \"indicate\""
   ]
  },
  {
   "cell_type": "code",
   "execution_count": 121,
   "metadata": {},
   "outputs": [
    {
     "data": {
      "text/plain": [
       "'Indicate by check mark whether the Registrant (1)\\xa0has filed all reports required to be filed by Section\\xa013 or 15(d) of the Securities Exchange Act of 1934 during the preceding 12 months (or for such shorter period that the Registrant was required to file such reports), and (2)\\xa0has been subject to such filing requirements for the past 90 days.'"
      ]
     },
     "execution_count": 121,
     "metadata": {},
     "output_type": "execute_result"
    }
   ],
   "source": [
    "all_text[2]"
   ]
  },
  {
   "cell_type": "code",
   "execution_count": 130,
   "metadata": {},
   "outputs": [
    {
     "data": {
      "text/plain": [
       "'Indicate by check mark whether the Registrant has submitted electronically and posted on its corporate Web site, if any, every Interactive Data File required to be submitted and posted pursuant to Rule 405 of Regulation S-T (§232.405 of this chapter) during the preceding 12 months (or for such shorter period that the Registrant was required to submit and post such files).'"
      ]
     },
     "execution_count": 130,
     "metadata": {},
     "output_type": "execute_result"
    }
   ],
   "source": [
    "all_text[3]"
   ]
  },
  {
   "cell_type": "markdown",
   "metadata": {},
   "source": [
    "#### or anything that has \"do not check\" or \"check if\""
   ]
  },
  {
   "cell_type": "code",
   "execution_count": 123,
   "metadata": {},
   "outputs": [
    {
     "data": {
      "text/plain": [
       "'Large accelerated filer\\xa0☒\\xa0Accelerated filer\\xa0☐Non-accelerated filer\\xa0☐  (Do not check if a smaller reporting company)\\xa0Smaller reporting company\\xa0☐\\xa0\\xa0\\xa0\\xa0Emerging growth company\\xa0☐'"
      ]
     },
     "execution_count": 123,
     "metadata": {},
     "output_type": "execute_result"
    }
   ],
   "source": [
    "all_text[5]"
   ]
  },
  {
   "cell_type": "code",
   "execution_count": 127,
   "metadata": {},
   "outputs": [
    {
     "data": {
      "text/plain": [
       "289"
      ]
     },
     "execution_count": 127,
     "metadata": {},
     "output_type": "execute_result"
    }
   ],
   "source": [
    "all_text_long = []\n",
    "count = 0\n",
    "try_count = 0\n",
    "for div in divs:\n",
    "    if len( div.getText() ) > 200:\n",
    "        all_text_long.append(div.getText())\n",
    "len(all_text_long)"
   ]
  },
  {
   "cell_type": "markdown",
   "metadata": {},
   "source": [
    "#### Still seems to get tables. They seem to start with \\xa0"
   ]
  },
  {
   "cell_type": "code",
   "execution_count": 133,
   "metadata": {},
   "outputs": [
    {
     "data": {
      "text/plain": [
       "'\\xa0Three Months Ended\\xa0Six Months Ended\\xa0March\\xa031, 2018\\xa0April\\xa01, 2017\\xa0March\\xa031, 2018\\xa0April\\xa01, 2017Net sales$61,137\\xa0$52,896\\xa0$149,430\\xa0$131,247Cost of sales37,715\\xa032,305\\xa092,096\\xa080,480Gross margin23,422\\xa020,591\\xa057,334\\xa050,767\\xa0\\xa0\\xa0\\xa0\\xa0\\xa0\\xa0\\xa0Operating expenses:\\xa0\\xa0\\xa0\\xa0\\xa0\\xa0\\xa0Research and development3,378\\xa02,776\\xa06,785\\xa05,647Selling, general and administrative4,150\\xa03,718\\xa08,381\\xa07,664Total operating expenses7,528\\xa06,494\\xa015,166\\xa013,311\\xa0\\xa0\\xa0\\xa0\\xa0\\xa0\\xa0\\xa0Operating income15,894\\xa014,097\\xa042,168\\xa037,456Other income/(expense), net2745871,0301,408Income before provision for income taxes16,168\\xa014,684\\xa043,198\\xa038,864Provision for income taxes2,346\\xa03,655\\xa09,311\\xa09,944Net income$13,822\\xa0$11,029\\xa0$33,887\\xa0$28,920\\xa0\\xa0\\xa0\\xa0\\xa0\\xa0\\xa0\\xa0Earnings per share:\\xa0\\xa0\\xa0\\xa0\\xa0\\xa0\\xa0Basic$2.75\\xa0$2.11\\xa0$6.69\\xa0$5.50Diluted$2.73\\xa0$2.10\\xa0$6.63\\xa0$5.46\\xa0\\xa0\\xa0\\xa0\\xa0\\xa0\\xa0\\xa0Shares used in computing earnings per share:\\xa0\\xa0\\xa0\\xa0\\xa0\\xa0\\xa0Basic5,024,877\\xa05,225,791\\xa05,068,877\\xa05,262,226Diluted5,068,493\\xa05,261,688\\xa05,113,140\\xa05,294,841\\xa0\\xa0\\xa0\\xa0\\xa0\\xa0\\xa0\\xa0Cash dividends declared per share$0.63\\xa0$0.57\\xa0$1.26\\xa0$1.14'"
      ]
     },
     "execution_count": 133,
     "metadata": {},
     "output_type": "execute_result"
    }
   ],
   "source": [
    "all_text[12]"
   ]
  },
  {
   "cell_type": "code",
   "execution_count": 141,
   "metadata": {},
   "outputs": [
    {
     "data": {
      "text/plain": [
       "'\\xa0March\\xa031, 2018\\xa0September\\xa030, 2017ASSETS:Current assets:\\xa0\\xa0\\xa0Cash and cash equivalents$45,059\\xa0$20,289Short-term marketable securities42,881\\xa053,892Accounts receivable, less allowances of $60 and $58, respectively14,324\\xa017,874Inventories7,662\\xa04,855Vendor non-trade receivables8,084\\xa017,799Other current assets12,043\\xa013,936Total current assets130,053\\xa0128,645\\xa0\\xa0\\xa0\\xa0Long-term marketable securities179,286\\xa0194,714Property, plant and equipment, net35,077\\xa033,783Other non-current assets23,086\\xa018,177Total assets$367,502\\xa0$375,319\\xa0\\xa0\\xa0\\xa0LIABILITIES AND SHAREHOLDERS’ EQUITY:Current liabilities:\\xa0\\xa0\\xa0Accounts payable$34,311\\xa0$49,049Accrued expenses26,756\\xa025,744Deferred revenue7,775\\xa07,548Commercial paper11,980\\xa011,977Current portion of long-term debt8,498\\xa06,496Total current liabilities89,320\\xa0100,814\\xa0\\xa0\\xa0\\xa0Deferred revenue, non-current3,087\\xa02,836Long-term debt101,362\\xa097,207Other non-current liabilities46,855\\xa040,415Total liabilities240,624\\xa0241,272\\xa0\\xa0\\xa0\\xa0Commitments and contingencies\\xa0\\xa0\\xa0\\xa0\\xa0Shareholders’ equity:\\xa0\\xa0\\xa0Common stock and additional paid-in capital, $0.00001 par value: 12,600,000 shares authorized; 4,943,282 and 5,126,201 shares issued and outstanding, respectively38,044\\xa035,867Retained earnings91,898\\xa098,330Accumulated other comprehensive income/(loss)(3,064)\\xa0(150)Total shareholders’ equity126,878\\xa0134,047Total liabilities and shareholders’ equity$367,502\\xa0$375,319'"
      ]
     },
     "execution_count": 141,
     "metadata": {},
     "output_type": "execute_result"
    }
   ],
   "source": [
    "all_text[20]"
   ]
  },
  {
   "cell_type": "code",
   "execution_count": 169,
   "metadata": {},
   "outputs": [
    {
     "data": {
      "text/plain": [
       "209"
      ]
     },
     "execution_count": 169,
     "metadata": {},
     "output_type": "execute_result"
    }
   ],
   "source": [
    "new_text = []\n",
    "for text in all_text_long:\n",
    "    if text[0] != '\\xa0':\n",
    "        new_text.append(text)\n",
    "len(new_text)"
   ]
  },
  {
   "cell_type": "markdown",
   "metadata": {},
   "source": [
    "#### trademark removal?"
   ]
  },
  {
   "cell_type": "code",
   "execution_count": 176,
   "metadata": {},
   "outputs": [
    {
     "data": {
      "text/plain": [
       "'Apple Inc. and its wholly-owned subsidiaries (collectively “Apple” or the “Company”) designs, manufactures and markets mobile communication and media devices and personal computers, and sells a variety of related software, services, accessories, networking solutions and third-party digital content and applications. The Company’s products and services include iPhone®, iPad®, Mac®, Apple Watch®, AirPods®, Apple TV®, HomePod™, a portfolio of consumer and professional software applications, iOS, macOS®, watchOS® and tvOS™ operating systems, iCloud®, Apple Pay® and a variety of other accessory, service and support offerings. The Company sells and delivers digital content and applications through the iTunes Store®, App Store®, Mac App Store, TV App Store, iBooks Store® and Apple Music® (collectively “Digital Content and Services”). The Company sells its products worldwide through its retail stores, online stores and direct sales force, as well as through third-party cellular network carriers, wholesalers, retailers and resellers. In addition, the Company sells a variety of third-party Apple-compatible products, including application software and various accessories through its retail and online stores. The Company sells to consumers, small and mid-sized businesses and education, enterprise and government customers.'"
      ]
     },
     "execution_count": 176,
     "metadata": {},
     "output_type": "execute_result"
    }
   ],
   "source": [
    "new_text[6]"
   ]
  },
  {
   "cell_type": "markdown",
   "metadata": {},
   "source": [
    "#### \"Company's fiscal\""
   ]
  },
  {
   "cell_type": "code",
   "execution_count": 180,
   "metadata": {},
   "outputs": [
    {
     "data": {
      "text/plain": [
       "'The Company’s fiscal year is the 52- or 53-week period that ends on the last Saturday of September. The first quarter of 2018 spanned 13 weeks, whereas a 14th week was added to the first fiscal quarter of 2017, as is done every five or six years, to realign the Company’s fiscal quarters with calendar quarters. Unless otherwise stated, references to particular years, quarters, months and periods refer to the Company’s fiscal years ended in September and the associated quarters, months and periods of those fiscal years.'"
      ]
     },
     "execution_count": 180,
     "metadata": {},
     "output_type": "execute_result"
    }
   ],
   "source": [
    "new_text[8]"
   ]
  },
  {
   "cell_type": "markdown",
   "metadata": {},
   "source": [
    "#### \"the following table\""
   ]
  },
  {
   "cell_type": "code",
   "execution_count": 174,
   "metadata": {},
   "outputs": [
    {
     "data": {
      "text/plain": [
       "'The following table shows the computation of basic and diluted earnings per share for the three- and six-month periods ended March 31, 2018 and April 1, 2017 (net income in millions and shares in thousands):'"
      ]
     },
     "execution_count": 174,
     "metadata": {},
     "output_type": "execute_result"
    }
   ],
   "source": [
    "new_text[10]"
   ]
  },
  {
   "cell_type": "code",
   "execution_count": 181,
   "metadata": {},
   "outputs": [
    {
     "data": {
      "text/plain": [
       "'Level 2 fair value estimates are based on observable inputs other than quoted prices in active markets for identical assets and liabilities, quoted prices for identical or similar assets or liabilities in inactive markets, or other inputs that are observable or can be corroborated by observable market data for substantially the full term of the assets or liabilities.'"
      ]
     },
     "execution_count": 181,
     "metadata": {},
     "output_type": "execute_result"
    }
   ],
   "source": [
    "new_text[11]"
   ]
  },
  {
   "cell_type": "code",
   "execution_count": 182,
   "metadata": {},
   "outputs": [
    {
     "data": {
      "text/plain": [
       "'The Company may sell certain of its marketable securities prior to their stated maturities for strategic reasons including, but not limited to, anticipation of credit deterioration and duration management. The maturities of the Company’s long-term marketable securities generally range from one to five years.'"
      ]
     },
     "execution_count": 182,
     "metadata": {},
     "output_type": "execute_result"
    }
   ],
   "source": [
    "new_text[12]"
   ]
  },
  {
   "cell_type": "markdown",
   "metadata": {},
   "source": [
    "#### These all seem like generic speak, a lot of \"the Company\". Although some of the ones in later cells look like they could be Apple specific with tax numbers and what not. Don't know if we'd want to keep those."
   ]
  },
  {
   "cell_type": "code",
   "execution_count": 186,
   "metadata": {},
   "outputs": [
    {
     "name": "stdout",
     "output_type": "stream",
     "text": [
      "The following tables show information about the Company’s marketable securities that had been in a continuous unrealized loss position for less than 12 months and for 12 months or greater as of March 31, 2018 and September 30, 2017 (in millions):\n",
      "The Company typically invests in highly rated securities, and its investment policy generally limits the amount of credit exposure to any one issuer. The policy generally requires investments to be investment grade, with the primary objective of minimizing the potential risk of principal loss. Fair values were determined for each individual security in the investment portfolio. When evaluating an investment for other-than-temporary impairment, the Company reviews factors such as the length of time and extent to which fair value has been below its cost basis, the financial condition of the issuer and any changes thereto, changes in market interest rates and the Company’s intent to sell, or whether it is more likely than not it will be required to sell the investment before recovery of the investment’s cost basis. As of March 31, 2018, the Company does not consider any of its investments to be other-than-temporarily impaired.\n",
      "The Company may use derivatives to partially offset its business exposure to foreign currency and interest rate risk on expected future cash flows, on net investments in certain foreign subsidiaries and on certain existing assets and liabilities. However, the Company may choose not to hedge certain exposures for a variety of reasons including, but not limited to, accounting considerations and the prohibitive economic cost of hedging particular exposures. There can be no assurance the hedges will offset more than a portion of the financial impact resulting from movements in foreign currency exchange or interest rates.\n",
      "To help protect gross margins from fluctuations in foreign currency exchange rates, certain of the Company’s subsidiaries whose functional currency is the U.S. dollar may hedge a portion of forecasted foreign currency revenue, and subsidiaries whose functional currency is not the U.S. dollar and who sell in local currencies may hedge a portion of forecasted inventory purchases not denominated in the subsidiaries’ functional currencies. The Company may enter into forward contracts, option contracts or other instruments to manage this risk and may designate these instruments as cash flow hedges. The Company typically hedges portions of its forecasted foreign currency exposure associated with revenue and inventory purchases, typically for up to 12 months.\n",
      "To help protect the net investment in a foreign operation from adverse changes in foreign currency exchange rates, the Company may enter into foreign currency forward and option contracts to offset the changes in the carrying amounts of these investments due to fluctuations in foreign currency exchange rates. In addition, the Company may use non-derivative financial instruments, such as its foreign currency–denominated debt, as economic hedges of its net investments in certain foreign subsidiaries. In both of these cases, the Company designates these instruments as net investment hedges.\n",
      "The Company may also enter into non-designated foreign currency contracts to partially offset the foreign currency exchange gains and losses generated by the remeasurement of certain assets and liabilities denominated in non-functional currencies.\n",
      "The Company may enter into interest rate swaps, options or other instruments to manage interest rate risk. These instruments may offset a portion of changes in income or expense, or changes in fair value of the Company’s term debt or investments. The Company designates these instruments as either cash flow or fair value hedges. The Company’s hedged interest rate transactions as of March 31, 2018 are expected to be recognized within 10 years.\n",
      "The Company may enter into foreign currency swaps to manage currency risk on its foreign currency–denominated term debt. These instruments may offset a portion of the foreign currency remeasurement gains or losses on the Company’s term debt and related interest payments. The Company designates these instruments as cash flow hedges. The Company’s hedged term debt–related foreign currency transactions as of March 31, 2018 are expected to be recognized within 24 years.\n"
     ]
    }
   ],
   "source": [
    "for i in range(13,21):\n",
    "    print( new_text[i] )"
   ]
  },
  {
   "cell_type": "code",
   "execution_count": 187,
   "metadata": {},
   "outputs": [
    {
     "name": "stdout",
     "output_type": "stream",
     "text": [
      "Derivative instruments designated as cash flow hedges must be de-designated as hedges when it is probable the forecasted hedged transaction will not occur in the initially identified time period or within a subsequent two-month time period. Deferred gains and losses in AOCI associated with such derivative instruments are reclassified into other income/(expense), net in the period of de-designation. Any subsequent changes in fair value of such derivative instruments are reflected in other income/(expense), net unless they are re-designated as hedges of other transactions.\n",
      "The effective portions of net investment hedges are recorded in other comprehensive income/(loss) (“OCI”) as a part of the cumulative translation adjustment. The ineffective portions and amounts excluded from the effectiveness testing of net investment hedges are recognized in other income/(expense), net.\n",
      "Derivatives that are not designated as hedging instruments are adjusted to fair value through earnings in the financial statement line item to which the derivative relates. As a result, during the three- and six-month periods ended March 31, 2018, respectively, the Company recognized losses of $203 million and $142 million in net sales, losses of $247 million and $212 million in cost of sales and losses of $331 million and $373 million in other income/(expense), net. During the three- and six-month periods ended April 1, 2017, respectively, the Company recognized a loss of $67 million and a gain of $206 million in net sales, a loss of $253 million and a gain of $79 million in cost of sales and a loss of $76 million and a gain of $432 million in other income/(expense), net.\n",
      "The Company records all derivatives in the Condensed Consolidated Balance Sheets at fair value. The Company’s accounting treatment for these derivative instruments is based on its hedge designation. The following tables show the Company’s derivative instruments at gross fair value as of March 31, 2018 and September 30, 2017 (in millions):\n",
      "The following table shows the pre-tax gains and losses of the Company’s derivative and non-derivative instruments designated as cash flow, net investment and fair value hedges in OCI and the Condensed Consolidated Statements of Operations for the three- and six-month periods ended March 31, 2018 and April 1, 2017 (in millions):\n",
      "The following table shows the notional amounts of the Company’s outstanding derivative instruments and credit risk amounts associated with outstanding or unsettled derivative instruments as of March 31, 2018 and September 30, 2017 (in millions):\n",
      "The notional amounts for outstanding derivative instruments provide one measure of the transaction volume outstanding and do not represent the amount of the Company’s exposure to credit or market loss. The credit risk amounts represent the Company’s gross exposure to potential accounting loss on derivative instruments that are outstanding or unsettled if all counterparties failed to perform according to the terms of the contract, based on then-current currency or interest rates at each respective date. The Company’s exposure to credit loss and market risk will vary over time as currency and interest rates change. Although the table above reflects the notional and credit risk amounts of the Company’s derivative instruments, it does not reflect the gains or losses associated with the exposures and transactions that the instruments are intended to hedge. The amounts ultimately realized upon settlement of these financial instruments, together with the gains and losses on the underlying exposures, will depend on actual market conditions during the remaining life of the instruments.\n",
      "The Company generally enters into master netting arrangements, which are designed to reduce credit risk by permitting net settlement of transactions with the same counterparty. To further limit credit risk, the Company generally enters into collateral security arrangements that provide for collateral to be received or posted when the net fair value of certain financial instruments fluctuates from contractually established thresholds. The Company presents its derivative assets and derivative liabilities at their gross fair values in its Condensed Consolidated Balance Sheets. As of March 31, 2018, the net cash collateral posted by the Company related to derivative instruments under its collateral security arrangements was $241 million, which was recorded as other current assets in the Condensed Consolidated Balance Sheet. As of September 30, 2017, the net cash collateral received by the Company related to derivative instruments under its collateral security arrangements was $35 million, which was recorded as accrued expenses in the Condensed Consolidated Balance Sheet.\n"
     ]
    }
   ],
   "source": [
    "for i in range(22,30):\n",
    "    print( new_text[i] )"
   ]
  },
  {
   "cell_type": "code",
   "execution_count": 188,
   "metadata": {},
   "outputs": [
    {
     "name": "stdout",
     "output_type": "stream",
     "text": [
      "The Company has considerable trade receivables outstanding with its third-party cellular network carriers, wholesalers, retailers, resellers, small and mid-sized businesses and education, enterprise and government customers. The Company generally does not require collateral from its customers; however, the Company will require collateral or third-party credit support in certain instances to limit credit risk. In addition, when possible, the Company attempts to limit credit risk on trade receivables with credit insurance for certain customers or by requiring third-party financing, loans or leases to support credit exposure. These credit-financing arrangements are directly between the third-party financing company and the end customer. As such, the Company generally does not assume any recourse or credit risk sharing related to any of these arrangements.\n",
      "The Company had no customers that individually represented 10% or more of total trade receivables as of March 31, 2018. As of September 30, 2017, the Company had two customers that individually represented 10% or more of total trade receivables, each of which accounted for 10%. The Company’s cellular network carriers accounted for 48% and 59% of total trade receivables as of March 31, 2018 and September 30, 2017, respectively.\n",
      "The Company has non-trade receivables from certain of its manufacturing vendors resulting from the sale of components to these vendors who manufacture sub-assemblies or assemble final products for the Company. The Company purchases these components directly from suppliers. As of March 31, 2018, the Company had three vendors that individually represented 10% or more of total vendor non-trade receivables, which accounted for 44%, 20% and 11%. As of September 30, 2017, the Company had three vendors that individually represented 10% or more of total vendor non-trade receivables, which accounted for 42%, 19% and 10%.\n",
      "On December 22, 2017, the U.S. enacted the Tax Cuts and Jobs Act (the “Act”), which significantly changed U.S. tax law. The Act lowered the Company’s U.S. statutory federal income tax rate from 35% to 21% effective January 1, 2018, while also imposing a deemed repatriation tax on previously deferred foreign income. The Act also created a new minimum tax on certain future foreign earnings. During the first six months of fiscal 2018, the Company recognized income tax expense of $9.3 billion, of which $2.6 billion was a provisional estimate in accordance with the U.S. Securities and Exchange Commission Staff Accounting Bulletin No. 118 and was recognized during the first quarter of 2018. This $2.6 billion provisional estimate included $1.8 billion related to the impact of remeasuring to reduce the Company’s deferred tax balances to reflect the new tax rate, and approximately $800 million associated with the net impact of the deemed repatriation tax.\n",
      "As a result of the Act, the Company remeasured certain deferred tax assets and liabilities based on the revised rates at which they are expected to reverse, including items for which the related income tax effects were originally recognized in OCI. In addition, the Company elected to record certain deferred tax assets and liabilities related to the new minimum tax on certain future foreign earnings. The provisional estimate of $1.8 billion noted above incorporates assumptions based upon the best available interpretation of the Act and may change as the Company receives additional clarification and implementation guidance.\n",
      "During the second quarter of 2018, the FASB issued ASU No. 2018-02, Income Statement – Reporting Comprehensive Income (Topic 220): Reclassification of Certain Tax Effects from Accumulated Other Comprehensive Income (“ASU 2018-02”). ASU 2018-02 allows an entity to elect to reclassify the income tax effects of the Act on items within AOCI to retained earnings. The Company elected to apply the provision of ASU 2018-02 at the beginning of the second quarter of 2018 with a reclassification of net tax benefits related to cumulative foreign currency translation and unrealized gains/losses on derivative instruments and marketable securities, resulting in a $278 million decrease in AOCI and a corresponding increase in retained earnings in the Condensed Consolidated Balance Sheet.\n",
      "As of September 30, 2017, the Company had a U.S. deferred tax liability of $36.4 billion for deferred foreign income. As a result of the deemed repatriation tax, which is based on the Company’s cumulative post-1986 deferred foreign income, the Company replaced $36.1 billion of its U.S. deferred tax liability with a provisional tax payable of $38.0 billion. This estimate of the deemed repatriation tax is based, in part, on the amount of cash and other specified assets anticipated to be held by the Company’s foreign subsidiaries as of September 29, 2018. Therefore, the tax payable may change as the asset amounts are finalized. The Company plans to pay the tax in installments in accordance with the Act.\n",
      "As of March 31, 2018, the Company had gross unrecognized tax benefits of $9.5 billion. These gross unrecognized tax benefits have been offset by certain tax deposits and a $1.1 billion reduction for the estimated impact of the deemed repatriation tax, with the net unrecognized tax benefits classified as other non-current liabilities in the Condensed Consolidated Balance Sheet. Upon recognition, $8.2 billion of the unrecognized tax benefits would impact the Company’s effective tax rate. The Company had accrued $1.5 billion of gross interest and penalties as of March 31, 2018, which are also classified as other non-current liabilities in the Condensed Consolidated Balance Sheet.\n",
      "The Company believes that an adequate provision has been made for any adjustments that may result from tax examinations. However, the outcome of tax audits cannot be predicted with certainty. If any issues addressed in the Company’s tax audits are resolved in a manner inconsistent with its expectations, the Company could be required to adjust its provision for income taxes in the period such resolution occurs. Although timing of resolution and/or closure of audits is not certain, the Company believes it is reasonably possible that its gross unrecognized tax benefits could decrease (either by payment, release or a combination of both) in the next 12 months by as much as $3.4 billion.\n"
     ]
    }
   ],
   "source": [
    "for i in range(31,40):\n",
    "    print( new_text[i] )"
   ]
  },
  {
   "cell_type": "code",
   "execution_count": 189,
   "metadata": {},
   "outputs": [
    {
     "name": "stdout",
     "output_type": "stream",
     "text": [
      "The Company had 270.0 million shares reserved for future issuance under its stock plans as of March 31, 2018. Restricted stock units (“RSUs”) granted generally vest over four years, based on continued employment, and are settled upon vesting in shares of the Company’s common stock on a one-for-one basis. Each share issued with respect to RSUs granted under the Company’s stock plans reduces the number of shares available for grant under the plans by two shares. RSUs canceled and shares withheld to satisfy tax withholding obligations increase the number of shares available for grant under the plans utilizing a factor of two times the number of RSUs canceled or shares withheld.\n",
      "During the three months ended March 31, 2018, Section 16 officers Angela Ahrendts, Timothy D. Cook, Luca Maestri, Daniel Riccio, Philip Schiller and Jeffrey Williams had equity trading plans in place in accordance with Rule 10b5-1(c)(1) under the Exchange Act. An equity trading plan is a written document that pre-establishes the amounts, prices and dates (or formula for determining the amounts, prices and dates) of future purchases or sales of the Company’s stock, including shares acquired pursuant to the Company’s employee and director equity plans.\n",
      "The fair value as of the respective vesting dates of RSUs was $457 million and $3.6 billion for the three- and six-month periods ended March 31, 2018, respectively, and was $460 million and $2.6 billion for the three- and six-month periods ended April 1, 2017, respectively.\n",
      "The following table shows a summary of the share-based compensation expense included in the Condensed Consolidated Statements of Operations for the three- and six-month periods ended March 31, 2018 and April 1, 2017 (in millions): \n",
      "The income tax benefit related to share-based compensation expense was $347 million and $1.0 billion for the three- and six-month periods ended March 31, 2018, respectively, and was $424 million and $889 million for the three- and six-month periods ended April 1, 2017, respectively. As of March 31, 2018, the total unrecognized compensation cost related to outstanding RSUs and stock options was $11.4 billion, which the Company expects to recognize over a weighted-average period of 2.8 years.\n",
      "Agreements entered into by the Company sometimes include indemnification provisions which may subject the Company to costs and damages in the event of a claim against an indemnified third party. In the opinion of management, there was not at least a reasonable possibility the Company may have incurred a material loss, or a material loss in excess of a recorded accrual, with respect to indemnification of third parties.\n",
      "The Company offers an iPhone Upgrade Program, which is available to customers who purchase a qualifying iPhone in the U.S., the U.K. and mainland China. The iPhone Upgrade Program provides customers the right to trade in that iPhone for a specified amount when purchasing a new iPhone, provided certain conditions are met. The Company accounts for the trade-in right as a guarantee liability and recognizes arrangement revenue net of the fair value of such right, with subsequent changes to the guarantee liability recognized within revenue.\n",
      "The Company has entered into indemnification agreements with its directors and executive officers. Under these agreements, the Company has agreed to indemnify such individuals to the fullest extent permitted by law against liabilities that arise by reason of their status as directors or officers of the Company and to advance expenses incurred by such individuals in connection with related legal proceedings. It is not possible to determine the maximum potential amount of payments the Company could be required to make under these agreements due to the limited history of prior indemnification claims and the unique facts and circumstances involved in each claim. While the Company maintains directors and officers liability insurance coverage, such insurance coverage may be insufficient to cover all losses or all types of claims that may arise.\n",
      "Although most components essential to the Company’s business are generally available from multiple sources, a few components are currently obtained from single or limited sources. In addition, the Company competes for various components with other participants in the markets for mobile communication and media devices and personal computers. Therefore, many components used by the Company, including those that are available from multiple sources, are at times subject to industry-wide shortage and significant pricing fluctuations that could materially adversely affect the Company’s financial condition and operating results.\n"
     ]
    }
   ],
   "source": [
    "for i in range(51,60):\n",
    "    print( new_text[i] )"
   ]
  },
  {
   "cell_type": "code",
   "execution_count": 190,
   "metadata": {},
   "outputs": [
    {
     "name": "stdout",
     "output_type": "stream",
     "text": [
      "The Company had 270.0 million shares reserved for future issuance under its stock plans as of March 31, 2018. Restricted stock units (“RSUs”) granted generally vest over four years, based on continued employment, and are settled upon vesting in shares of the Company’s common stock on a one-for-one basis. Each share issued with respect to RSUs granted under the Company’s stock plans reduces the number of shares available for grant under the plans by two shares. RSUs canceled and shares withheld to satisfy tax withholding obligations increase the number of shares available for grant under the plans utilizing a factor of two times the number of RSUs canceled or shares withheld.\n",
      "During the three months ended March 31, 2018, Section 16 officers Angela Ahrendts, Timothy D. Cook, Luca Maestri, Daniel Riccio, Philip Schiller and Jeffrey Williams had equity trading plans in place in accordance with Rule 10b5-1(c)(1) under the Exchange Act. An equity trading plan is a written document that pre-establishes the amounts, prices and dates (or formula for determining the amounts, prices and dates) of future purchases or sales of the Company’s stock, including shares acquired pursuant to the Company’s employee and director equity plans.\n",
      "The fair value as of the respective vesting dates of RSUs was $457 million and $3.6 billion for the three- and six-month periods ended March 31, 2018, respectively, and was $460 million and $2.6 billion for the three- and six-month periods ended April 1, 2017, respectively.\n",
      "The following table shows a summary of the share-based compensation expense included in the Condensed Consolidated Statements of Operations for the three- and six-month periods ended March 31, 2018 and April 1, 2017 (in millions): \n",
      "The income tax benefit related to share-based compensation expense was $347 million and $1.0 billion for the three- and six-month periods ended March 31, 2018, respectively, and was $424 million and $889 million for the three- and six-month periods ended April 1, 2017, respectively. As of March 31, 2018, the total unrecognized compensation cost related to outstanding RSUs and stock options was $11.4 billion, which the Company expects to recognize over a weighted-average period of 2.8 years.\n",
      "Agreements entered into by the Company sometimes include indemnification provisions which may subject the Company to costs and damages in the event of a claim against an indemnified third party. In the opinion of management, there was not at least a reasonable possibility the Company may have incurred a material loss, or a material loss in excess of a recorded accrual, with respect to indemnification of third parties.\n",
      "The Company offers an iPhone Upgrade Program, which is available to customers who purchase a qualifying iPhone in the U.S., the U.K. and mainland China. The iPhone Upgrade Program provides customers the right to trade in that iPhone for a specified amount when purchasing a new iPhone, provided certain conditions are met. The Company accounts for the trade-in right as a guarantee liability and recognizes arrangement revenue net of the fair value of such right, with subsequent changes to the guarantee liability recognized within revenue.\n",
      "The Company has entered into indemnification agreements with its directors and executive officers. Under these agreements, the Company has agreed to indemnify such individuals to the fullest extent permitted by law against liabilities that arise by reason of their status as directors or officers of the Company and to advance expenses incurred by such individuals in connection with related legal proceedings. It is not possible to determine the maximum potential amount of payments the Company could be required to make under these agreements due to the limited history of prior indemnification claims and the unique facts and circumstances involved in each claim. While the Company maintains directors and officers liability insurance coverage, such insurance coverage may be insufficient to cover all losses or all types of claims that may arise.\n",
      "Although most components essential to the Company’s business are generally available from multiple sources, a few components are currently obtained from single or limited sources. In addition, the Company competes for various components with other participants in the markets for mobile communication and media devices and personal computers. Therefore, many components used by the Company, including those that are available from multiple sources, are at times subject to industry-wide shortage and significant pricing fluctuations that could materially adversely affect the Company’s financial condition and operating results.\n"
     ]
    }
   ],
   "source": [
    "for i in range(51,60):\n",
    "    print( new_text[i] )"
   ]
  },
  {
   "cell_type": "markdown",
   "metadata": {},
   "source": [
    "## Function to get the texts"
   ]
  },
  {
   "cell_type": "code",
   "execution_count": 1,
   "metadata": {},
   "outputs": [],
   "source": [
    "def get_texts_from_url(url):\n",
    "    main_page = str(requests.get(url).text)\n",
    "    page_soup = bs.BeautifulSoup(main_page, 'html.parser')\n",
    "    divs = page_soup.find_all('div')\n",
    "    all_text = []\n",
    "    for div in divs:\n",
    "        text = div.getText()\n",
    "        if len(text) > 200 and text[0] != '\\xa0':\n",
    "            all_text.append(text)\n",
    "    return all_text"
   ]
  },
  {
   "cell_type": "code",
   "execution_count": 6,
   "metadata": {},
   "outputs": [],
   "source": [
    "check_texts = get_texts_from_url(url)"
   ]
  },
  {
   "cell_type": "code",
   "execution_count": 7,
   "metadata": {},
   "outputs": [
    {
     "data": {
      "text/plain": [
       "'The Company had 270.0 million shares reserved for future issuance under its stock plans as of March\\xa031, 2018. Restricted stock units (“RSUs”) granted generally vest over four years, based on continued employment, and are settled upon vesting in shares of the Company’s common stock on a one-for-one basis. Each share issued with respect to RSUs granted under the Company’s stock plans reduces the number of shares available for grant under the plans by two shares. RSUs canceled and shares withheld to satisfy tax withholding obligations increase the number of shares available for grant under the plans utilizing a factor of two times the number of RSUs canceled or shares withheld.'"
      ]
     },
     "execution_count": 7,
     "metadata": {},
     "output_type": "execute_result"
    }
   ],
   "source": [
    "check_texts[51]        ## same as above"
   ]
  },
  {
   "cell_type": "code",
   "execution_count": 8,
   "metadata": {},
   "outputs": [],
   "source": [
    "random_url = \"https://www.sec.gov/Archives/edgar/data/1013243/000095014405011529/g96816q2e10vq.htm\"\n",
    "second_test = get_texts_from_url(random_url)"
   ]
  },
  {
   "cell_type": "code",
   "execution_count": 9,
   "metadata": {},
   "outputs": [
    {
     "data": {
      "text/plain": [
       "277"
      ]
     },
     "execution_count": 9,
     "metadata": {},
     "output_type": "execute_result"
    }
   ],
   "source": [
    "len(second_test)"
   ]
  },
  {
   "cell_type": "code",
   "execution_count": 10,
   "metadata": {},
   "outputs": [
    {
     "data": {
      "text/plain": [
       "'On April\\xa026, 2004, the Company sold its M.V.I. and Aquasol product lines to Mayne Pharma (USA)\\xa0Inc.\\nfor $105\\xa0million, subject to certain adjustments based on inventory levels at closing and other\\npost-closing obligations (the “M.V.I. and Aquasol Sale”). A portion of the closing payment was held\\nin escrow to satisfy post-closing obligations under the agreement. The Company received\\napproximately $1.6\\xa0million from this escrow in September\\xa02004 and does not anticipate receiving any\\nadditional payments out of this escrow. The M.V.I. and Aquasol Sale resulted in a gain of $39.1\\nmillion that the Company recorded in the second and third quarters of 2004. The gain on the sale\\nwas based on the net cash received from the sale less the book value of the intangible assets,\\ninventories and other items related to the product lines sold.\\n'"
      ]
     },
     "execution_count": 10,
     "metadata": {},
     "output_type": "execute_result"
    }
   ],
   "source": [
    "second_test[43]"
   ]
  },
  {
   "cell_type": "code",
   "execution_count": null,
   "metadata": {},
   "outputs": [],
   "source": []
  }
 ],
 "metadata": {
  "kernelspec": {
   "display_name": "Python 3",
   "language": "python",
   "name": "python3"
  },
  "language_info": {
   "codemirror_mode": {
    "name": "ipython",
    "version": 3
   },
   "file_extension": ".py",
   "mimetype": "text/x-python",
   "name": "python",
   "nbconvert_exporter": "python",
   "pygments_lexer": "ipython3",
   "version": "3.7.1"
  }
 },
 "nbformat": 4,
 "nbformat_minor": 2
}
