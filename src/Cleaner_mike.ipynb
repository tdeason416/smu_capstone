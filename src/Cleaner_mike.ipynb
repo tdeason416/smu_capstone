{
 "cells": [
  {
   "cell_type": "code",
   "execution_count": 1,
   "metadata": {},
   "outputs": [],
   "source": [
    "import pandas as pd;\n",
    "import numpy as np;\n",
    "import os\n",
    "import requests\n",
    "import bs4 as bs\n",
    "import nltk\n",
    "import re\n",
    "import time\n",
    "import sys\n",
    "import logging\n",
    "import multiprocessing;\n",
    "import spacy\n",
    "#spacy.load('en')\n",
    "from spacy.lang.en import English"
   ]
  },
  {
   "cell_type": "code",
   "execution_count": 2,
   "metadata": {},
   "outputs": [],
   "source": [
    "folder_name = '/Users/michael/Downloads/SEC'\n",
    "file_names = os.listdir(folder_name)\n",
    "end_folder_name = '/Users/michael/Downloads/cleaned_SEC'\n",
    "\n",
    "more_stop_words = ['company','months','products','operations','income','period','sales','market','business','stock','results',\n",
    "                  'revenue','shares','share','revenues','assets','statements','value','costs','product','quarter','increase',\n",
    "                  'expense','customers','performance','interest','charges','price','compensation','agreement','property','amount',\n",
    "                  'markets','information','expenses','facility','customer','taxes','demand','payments',\n",
    "                  'stringitemtype','textblockitemtype','monetaryitemtype','referencesreference','namespace','referencesno',\n",
    "                  'definitionthe','definitionamount']\n",
    "\n",
    "en_stop = nltk.corpus.stopwords.words('english')\n",
    "en_stop.extend(more_stop_words)\n",
    "parser = English()"
   ]
  },
  {
   "cell_type": "code",
   "execution_count": 3,
   "metadata": {},
   "outputs": [],
   "source": [
    "def get_text_from_file(file):\n",
    "    page_soup = bs.BeautifulSoup(file, 'lxml')\n",
    "    divs = page_soup.find_all('div')\n",
    "    all_text = \"\"\n",
    "    for div in divs:\n",
    "        text = div.getText()\n",
    "        if len(text) > 200 and text[0] != '\\xa0':\n",
    "            ## removes all the /xa0 /n /t garbage and some extra spaces\n",
    "            cleaner_text = re.sub('\\s+', ' ', text).strip()\n",
    "            all_text = all_text + \" \" + cleaner_text            \n",
    "    return all_text\n",
    "\n",
    "def tokenize(text):\n",
    "    '''\n",
    "    Separates each word from the others, making them lower case and removing URLs and possible screen names that show up.\n",
    "    '''\n",
    "\n",
    "    lda_tokens = []\n",
    "    tokens = parser(text)\n",
    "    for token in tokens:\n",
    "        if token.orth_.isspace():\n",
    "            continue\n",
    "        elif token.like_url:\n",
    "            lda_tokens.append('URL')\n",
    "        else:\n",
    "            lda_tokens.append(token.lower_)\n",
    "    return lda_tokens\n",
    "\n",
    "def combine_lists(list_of_lists):\n",
    "    out = []\n",
    "    for li in list_of_lists:\n",
    "        out.append(li)\n",
    "    return out"
   ]
  },
  {
   "cell_type": "code",
   "execution_count": 4,
   "metadata": {},
   "outputs": [],
   "source": [
    "def clean_filing(start_folder,file_name,end_folder):\n",
    "    \n",
    "    ## get the raw file\n",
    "    filing = open(start_folder + '/' + file_name).read()\n",
    "    text = get_text_from_file(filing)\n",
    "    \n",
    "    if len(text)> 10**6 - 1 :\n",
    "        #inc = 10**6\n",
    "        #texts = [text[(i-1) * inc : i * inc] for i in range(0, text, 10**6)]\n",
    "        #tokens = combine_lists(texts)\n",
    "        text1 = text[:999999]\n",
    "        text2 = text[999999:]\n",
    "        tokens = tokenize(text1) + tokenize(text2)\n",
    "    else:\n",
    "        tokens = tokenize(text)\n",
    "        \n",
    "    new_tokens = []\n",
    "    for tok in tokens:\n",
    "        if len(tok) > 4 and len(tok) < 14 and tok[0] not in {'-', 'x'} and tok not in en_stop:\n",
    "            new_tokens.append(tok)\n",
    "            \n",
    "    pos_tags = nltk.pos_tag(new_tokens)\n",
    "    \n",
    "    final_text = \"\"\n",
    "    for pos_tag in pos_tags:\n",
    "        if pos_tag[1][0] == \"N\":\n",
    "            final_text = final_text + \" \" + pos_tag[0]\n",
    "\n",
    "    full_file_name = end_folder + \"/\" + file_name\n",
    "    text_file = open(full_file_name, \"w+\")\n",
    "    text_file.write(final_text)\n",
    "    text_file.close()"
   ]
  },
  {
   "cell_type": "code",
   "execution_count": 5,
   "metadata": {},
   "outputs": [],
   "source": [
    "test = clean_filing(folder_name,file_names[0],end_folder_name)"
   ]
  },
  {
   "cell_type": "code",
   "execution_count": null,
   "metadata": {},
   "outputs": [],
   "source": []
  },
  {
   "cell_type": "code",
   "execution_count": null,
   "metadata": {},
   "outputs": [],
   "source": []
  }
 ],
 "metadata": {
  "kernelspec": {
   "display_name": "Python 3",
   "language": "python",
   "name": "python3"
  },
  "language_info": {
   "codemirror_mode": {
    "name": "ipython",
    "version": 3
   },
   "file_extension": ".py",
   "mimetype": "text/x-python",
   "name": "python",
   "nbconvert_exporter": "python",
   "pygments_lexer": "ipython3",
   "version": "3.6.8"
  }
 },
 "nbformat": 4,
 "nbformat_minor": 2
}
